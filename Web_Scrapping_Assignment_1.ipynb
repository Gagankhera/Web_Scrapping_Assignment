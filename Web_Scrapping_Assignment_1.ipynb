{
 "cells": [
  {
   "cell_type": "markdown",
   "id": "f946b82d",
   "metadata": {},
   "source": [
    "# 1. Write a python program to display all the header tags from ‘en.wikipedia.org/wiki/Main_Page’"
   ]
  },
  {
   "cell_type": "code",
   "execution_count": 21,
   "id": "e5eb15cd",
   "metadata": {},
   "outputs": [
    {
     "name": "stdout",
     "output_type": "stream",
     "text": [
      "<Response [200]>\n"
     ]
    }
   ],
   "source": [
    "import requests\n",
    "from bs4 import BeautifulSoup\n",
    "src = requests.get(\"http://en.wikipedia.org/wiki/Main_Page\")\n",
    "print(src)\n",
    "soup = BeautifulSoup(src.content, 'lxml')\n",
    "#print(soup.prettify())"
   ]
  },
  {
   "cell_type": "code",
   "execution_count": 22,
   "id": "1cef7b1b",
   "metadata": {},
   "outputs": [
    {
     "name": "stdout",
     "output_type": "stream",
     "text": [
      "List of all Header tags: \n",
      "\n",
      "[<h1 class=\"firstHeading\" id=\"firstHeading\">Main Page</h1>, <h2 class=\"mp-h2\" id=\"mp-tfa-h2\"><span id=\"From_today.27s_featured_article\"></span><span class=\"mw-headline\" id=\"From_today's_featured_article\">From today's featured article</span></h2>, <h2 class=\"mp-h2\" id=\"mp-dyk-h2\"><span class=\"mw-headline\" id=\"Did_you_know_...\">Did you know ...</span></h2>, <h2 class=\"mp-h2\" id=\"mp-itn-h2\"><span class=\"mw-headline\" id=\"In_the_news\">In the news</span></h2>, <h2 class=\"mp-h2\" id=\"mp-otd-h2\"><span class=\"mw-headline\" id=\"On_this_day\">On this day</span></h2>, <h2 class=\"mp-h2\" id=\"mp-tfl-h2\"><span id=\"From_today.27s_featured_list\"></span><span class=\"mw-headline\" id=\"From_today's_featured_list\">From today's featured list</span></h2>, <h2 class=\"mp-h2\" id=\"mp-tfp-h2\"><span id=\"Today.27s_featured_picture\"></span><span class=\"mw-headline\" id=\"Today's_featured_picture\">Today's featured picture</span></h2>, <h2 class=\"mp-h2\" id=\"mp-other\"><span class=\"mw-headline\" id=\"Other_areas_of_Wikipedia\">Other areas of Wikipedia</span></h2>, <h2 class=\"mp-h2\" id=\"mp-sister\"><span id=\"Wikipedia.27s_sister_projects\"></span><span class=\"mw-headline\" id=\"Wikipedia's_sister_projects\">Wikipedia's sister projects</span></h2>, <h2 class=\"mp-h2\" id=\"mp-lang\"><span class=\"mw-headline\" id=\"Wikipedia_languages\">Wikipedia languages</span></h2>, <h2>Navigation menu</h2>, <h3 class=\"vector-menu-heading\" id=\"p-personal-label\"><span>Personal tools</span>\n",
      "</h3>, <h3 class=\"vector-menu-heading\" id=\"p-namespaces-label\"><span>Namespaces</span>\n",
      "</h3>, <h3 class=\"vector-menu-heading\" id=\"p-variants-label\"><span>Variants</span>\n",
      "</h3>, <h3 class=\"vector-menu-heading\" id=\"p-views-label\"><span>Views</span>\n",
      "</h3>, <h3 class=\"vector-menu-heading\" id=\"p-cactions-label\"><span>More</span>\n",
      "</h3>, <h3>\n",
      "<label for=\"searchInput\">Search</label>\n",
      "</h3>, <h3 class=\"vector-menu-heading\" id=\"p-navigation-label\"><span>Navigation</span>\n",
      "</h3>, <h3 class=\"vector-menu-heading\" id=\"p-interaction-label\"><span>Contribute</span>\n",
      "</h3>, <h3 class=\"vector-menu-heading\" id=\"p-tb-label\"><span>Tools</span>\n",
      "</h3>, <h3 class=\"vector-menu-heading\" id=\"p-coll-print_export-label\"><span>Print/export</span>\n",
      "</h3>, <h3 class=\"vector-menu-heading\" id=\"p-wikibase-otherprojects-label\"><span>In other projects</span>\n",
      "</h3>, <h3 class=\"vector-menu-heading\" id=\"p-lang-label\"><span>Languages</span>\n",
      "</h3>]\n"
     ]
    }
   ],
   "source": [
    "header_tags = soup.find_all(['h1','h2','h3','h4','h5','h6'])\n",
    "print(\"List of all Header tags: \", header_tags, sep = '\\n\\n')"
   ]
  },
  {
   "cell_type": "code",
   "execution_count": null,
   "id": "0a17fc33",
   "metadata": {},
   "outputs": [],
   "source": []
  },
  {
   "cell_type": "markdown",
   "id": "dabd1534",
   "metadata": {},
   "source": [
    "# 2. Write a python program to display IMDB’s Top rated 100 movies’ data (i.e. Name, IMDB rating, Year of release)."
   ]
  },
  {
   "cell_type": "code",
   "execution_count": 23,
   "id": "2a84881d",
   "metadata": {},
   "outputs": [
    {
     "name": "stdout",
     "output_type": "stream",
     "text": [
      "<Response [200]>\n"
     ]
    }
   ],
   "source": [
    "import requests\n",
    "from bs4 import BeautifulSoup\n",
    "src = requests.get(\"https://www.imdb.com/list/ls091520106/\")\n",
    "print(src)\n",
    "soup = BeautifulSoup(src.content, 'lxml')"
   ]
  },
  {
   "cell_type": "code",
   "execution_count": 24,
   "id": "71a1bffa",
   "metadata": {},
   "outputs": [
    {
     "data": {
      "text/plain": [
       "['The Shawshank Redemption',\n",
       " 'The Godfather',\n",
       " 'The Godfather: Part II',\n",
       " 'The Dark Knight',\n",
       " '12 Angry Men',\n",
       " \"Schindler's List\",\n",
       " 'The Lord of the Rings: The Return of the King',\n",
       " 'Pulp Fiction',\n",
       " 'Il buono, il brutto, il cattivo',\n",
       " 'Fight Club',\n",
       " 'Joker',\n",
       " 'The Lord of the Rings: The Fellowship of the Ring',\n",
       " 'Forrest Gump',\n",
       " 'Inception',\n",
       " 'Star Wars: Episode V - The Empire Strikes Back',\n",
       " 'The Lord of the Rings: The Two Towers',\n",
       " 'The Matrix',\n",
       " \"One Flew Over the Cuckoo's Nest\",\n",
       " 'Goodfellas',\n",
       " 'Shichinin no samurai',\n",
       " 'Se7en',\n",
       " 'Cidade de Deus',\n",
       " 'La vita è bella',\n",
       " 'The Silence of the Lambs',\n",
       " 'Star Wars',\n",
       " \"It's a Wonderful Life\",\n",
       " 'Saving Private Ryan',\n",
       " 'Sen to Chihiro no kamikakushi',\n",
       " 'The Green Mile',\n",
       " 'Léon',\n",
       " 'Seppuku',\n",
       " 'Interstellar',\n",
       " 'The Usual Suspects',\n",
       " 'The Lion King',\n",
       " 'American History X',\n",
       " 'Back to the Future',\n",
       " 'The Pianist',\n",
       " 'Modern Times',\n",
       " 'Terminator 2: Judgment Day',\n",
       " 'The Intouchables',\n",
       " 'Psycho',\n",
       " 'Gladiator',\n",
       " 'City Lights',\n",
       " 'The Departed',\n",
       " 'Whiplash',\n",
       " 'Once Upon a Time in the West',\n",
       " 'The Prestige',\n",
       " 'Avengers: Endgame',\n",
       " 'Casablanca',\n",
       " 'Hotaru no haka',\n",
       " 'Rear Window',\n",
       " 'Nuovo Cinema Paradiso',\n",
       " 'Alien',\n",
       " 'Raiders of the Lost Ark',\n",
       " 'Memento',\n",
       " 'Apocalypse Now',\n",
       " 'The Great Dictator',\n",
       " 'The Lives of Others',\n",
       " 'Avengers: Infinity War',\n",
       " 'Django Unchained',\n",
       " 'Spider-Man: Into the Spider-Verse',\n",
       " 'The Shining',\n",
       " 'Paths of Glory',\n",
       " 'WALL·E',\n",
       " 'Sunset Blvd.',\n",
       " 'Dr. Strangelove or: How I Learned to Stop Worrying and Love the Bomb',\n",
       " 'Mononoke-hime',\n",
       " 'Oldeuboi',\n",
       " 'Witness for the Prosecution',\n",
       " 'The Dark Knight Rises',\n",
       " 'Once Upon a Time in America',\n",
       " 'Gisaengchung',\n",
       " 'Aliens',\n",
       " 'American Beauty',\n",
       " 'Coco',\n",
       " 'Kimi no na wa.',\n",
       " 'Braveheart',\n",
       " 'Das Boot',\n",
       " '3 Idiots',\n",
       " 'Taare Zameen Par',\n",
       " 'Star Wars: Episode VI - Return of the Jedi',\n",
       " 'Toy Story',\n",
       " 'Reservoir Dogs',\n",
       " 'Amadeus',\n",
       " 'Dangal',\n",
       " 'Good Will Hunting',\n",
       " 'Inglourious Basterds',\n",
       " 'M - Eine Stadt sucht einen Mörder',\n",
       " 'Requiem for a Dream',\n",
       " '2001: A Space Odyssey',\n",
       " 'Vertigo',\n",
       " 'Eternal Sunshine of the Spotless Mind',\n",
       " 'Citizen Kane',\n",
       " 'Full Metal Jacket',\n",
       " 'Jagten',\n",
       " 'North by Northwest',\n",
       " 'A Clockwork Orange',\n",
       " 'Snatch',\n",
       " \"Le fabuleux destin d'Amélie Poulain\",\n",
       " 'The Kid']"
      ]
     },
     "execution_count": 24,
     "metadata": {},
     "output_type": "execute_result"
    }
   ],
   "source": [
    "movies = soup.find_all('h3',class_= \"lister-item-header\")\n",
    "movie_names = []\n",
    "\n",
    "for i in movies:\n",
    "    for j in i.find_all('a'):\n",
    "        movie_names.append(j.text.replace(\"\\n\",\"\")) \n",
    "movie_names[:100]"
   ]
  },
  {
   "cell_type": "code",
   "execution_count": 25,
   "id": "8350c165",
   "metadata": {},
   "outputs": [
    {
     "data": {
      "text/plain": [
       "['9.3',\n",
       " '9.2',\n",
       " '9',\n",
       " '9',\n",
       " '9',\n",
       " '8.9',\n",
       " '8.9',\n",
       " '8.9',\n",
       " '8.8',\n",
       " '8.8',\n",
       " '8.4',\n",
       " '8.8',\n",
       " '8.8',\n",
       " '8.8',\n",
       " '8.7',\n",
       " '8.7',\n",
       " '8.7',\n",
       " '8.7',\n",
       " '8.7',\n",
       " '8.6',\n",
       " '8.6',\n",
       " '8.6',\n",
       " '8.6',\n",
       " '8.6',\n",
       " '8.6',\n",
       " '8.6',\n",
       " '8.6',\n",
       " '8.6',\n",
       " '8.6',\n",
       " '8.5',\n",
       " '8.6',\n",
       " '8.6',\n",
       " '8.5',\n",
       " '8.5',\n",
       " '8.5',\n",
       " '8.5',\n",
       " '8.5',\n",
       " '8.5',\n",
       " '8.5',\n",
       " '8.5',\n",
       " '8.5',\n",
       " '8.5',\n",
       " '8.5',\n",
       " '8.5',\n",
       " '8.5',\n",
       " '8.5',\n",
       " '8.5',\n",
       " '8.4',\n",
       " '8.5',\n",
       " '8.5',\n",
       " '8.5',\n",
       " '8.5',\n",
       " '8.4',\n",
       " '8.4',\n",
       " '8.4',\n",
       " '8.4',\n",
       " '8.4',\n",
       " '8.4',\n",
       " '8.4',\n",
       " '8.4',\n",
       " '8.4',\n",
       " '8.4',\n",
       " '8.4',\n",
       " '8.4',\n",
       " '8.4',\n",
       " '8.4',\n",
       " '8.4',\n",
       " '8.4',\n",
       " '8.4',\n",
       " '8.4',\n",
       " '8.4',\n",
       " '8.6',\n",
       " '8.3',\n",
       " '8.3',\n",
       " '8.4',\n",
       " '8.4',\n",
       " '8.3',\n",
       " '8.3',\n",
       " '8.4',\n",
       " '8.4',\n",
       " '8.3',\n",
       " '8.3',\n",
       " '8.3',\n",
       " '8.3',\n",
       " '8.4',\n",
       " '8.3',\n",
       " '8.3',\n",
       " '8.3',\n",
       " '8.3',\n",
       " '8.3',\n",
       " '8.3',\n",
       " '8.3',\n",
       " '8.3',\n",
       " '8.3',\n",
       " '8.3',\n",
       " '8.3',\n",
       " '8.3',\n",
       " '8.3',\n",
       " '8.3',\n",
       " '8.3']"
      ]
     },
     "execution_count": 25,
     "metadata": {},
     "output_type": "execute_result"
    }
   ],
   "source": [
    "rating = soup.find_all('div',class_= \"ipl-rating-star small\")\n",
    "Rating = []\n",
    "\n",
    "for i in rating:\n",
    "    Rating.append(i.text.replace(\"\\n\",\"\"))\n",
    "Rating[:100]"
   ]
  },
  {
   "cell_type": "code",
   "execution_count": 26,
   "id": "c616168a",
   "metadata": {},
   "outputs": [
    {
     "data": {
      "text/plain": [
       "['(1994)',\n",
       " '(1972)',\n",
       " '(1974)',\n",
       " '(2008)',\n",
       " '(1957)',\n",
       " '(1993)',\n",
       " '(2003)',\n",
       " '(1994)',\n",
       " '(1966)',\n",
       " '(1999)',\n",
       " '(2019)',\n",
       " '(2001)',\n",
       " '(1994)',\n",
       " '(2010)',\n",
       " '(1980)',\n",
       " '(2002)',\n",
       " '(1999)',\n",
       " '(1975)',\n",
       " '(1990)',\n",
       " '(1954)',\n",
       " '(1995)',\n",
       " '(2002)',\n",
       " '(1997)',\n",
       " '(1991)',\n",
       " '(1977)',\n",
       " '(1946)',\n",
       " '(1998)',\n",
       " '(2001)',\n",
       " '(1999)',\n",
       " '(1994)',\n",
       " '(1962)',\n",
       " '(2014)',\n",
       " '(1995)',\n",
       " '(1994)',\n",
       " '(1998)',\n",
       " '(1985)',\n",
       " '(2002)',\n",
       " '(1936)',\n",
       " '(1991)',\n",
       " '(2011)',\n",
       " '(1960)',\n",
       " '(2000)',\n",
       " '(1931)',\n",
       " '(2006)',\n",
       " '(2014)',\n",
       " '(1968)',\n",
       " '(2006)',\n",
       " '(2019)',\n",
       " '(1942)',\n",
       " '(1988)',\n",
       " '(1954)',\n",
       " '(1988)',\n",
       " '(1979)',\n",
       " '(1981)',\n",
       " '(2000)',\n",
       " '(1979)',\n",
       " '(1940)',\n",
       " '(2006)',\n",
       " '(2018)',\n",
       " '(2012)',\n",
       " '(2018)',\n",
       " '(1980)',\n",
       " '(1957)',\n",
       " '(2008)',\n",
       " '(1950)',\n",
       " '(1964)',\n",
       " '(1997)',\n",
       " '(2003)',\n",
       " '(1957)',\n",
       " '(2012)',\n",
       " '(1984)',\n",
       " '(2019)',\n",
       " '(1986)',\n",
       " '(1999)',\n",
       " '(I) (2017)',\n",
       " '(2016)',\n",
       " '(1995)',\n",
       " '(1981)',\n",
       " '(2009)',\n",
       " '(2007)',\n",
       " '(1983)',\n",
       " '(1995)',\n",
       " '(1992)',\n",
       " '(1984)',\n",
       " '(2016)',\n",
       " '(1997)',\n",
       " '(2009)',\n",
       " '(1931)',\n",
       " '(2000)',\n",
       " '(1968)',\n",
       " '(1958)',\n",
       " '(2004)',\n",
       " '(1941)',\n",
       " '(1987)',\n",
       " '(2012)',\n",
       " '(1959)',\n",
       " '(1971)',\n",
       " '(2000)',\n",
       " '(2001)',\n",
       " '(1921)']"
      ]
     },
     "execution_count": 26,
     "metadata": {},
     "output_type": "execute_result"
    }
   ],
   "source": [
    "year = soup.find_all('span',class_= \"lister-item-year text-muted unbold\")\n",
    "Year = []\n",
    "\n",
    "for i in year:\n",
    "    Year.append(i.text)\n",
    "Year[:100]"
   ]
  },
  {
   "cell_type": "code",
   "execution_count": 27,
   "id": "e08f9a66",
   "metadata": {},
   "outputs": [
    {
     "data": {
      "text/html": [
       "<div>\n",
       "<style scoped>\n",
       "    .dataframe tbody tr th:only-of-type {\n",
       "        vertical-align: middle;\n",
       "    }\n",
       "\n",
       "    .dataframe tbody tr th {\n",
       "        vertical-align: top;\n",
       "    }\n",
       "\n",
       "    .dataframe thead th {\n",
       "        text-align: right;\n",
       "    }\n",
       "</style>\n",
       "<table border=\"1\" class=\"dataframe\">\n",
       "  <thead>\n",
       "    <tr style=\"text-align: right;\">\n",
       "      <th></th>\n",
       "      <th>Movie Name</th>\n",
       "      <th>IMDB rating</th>\n",
       "      <th>Year of Release</th>\n",
       "    </tr>\n",
       "  </thead>\n",
       "  <tbody>\n",
       "    <tr>\n",
       "      <th>0</th>\n",
       "      <td>The Shawshank Redemption</td>\n",
       "      <td>9.3</td>\n",
       "      <td>(1994)</td>\n",
       "    </tr>\n",
       "    <tr>\n",
       "      <th>1</th>\n",
       "      <td>The Godfather</td>\n",
       "      <td>9.2</td>\n",
       "      <td>(1972)</td>\n",
       "    </tr>\n",
       "    <tr>\n",
       "      <th>2</th>\n",
       "      <td>The Godfather: Part II</td>\n",
       "      <td>9</td>\n",
       "      <td>(1974)</td>\n",
       "    </tr>\n",
       "    <tr>\n",
       "      <th>3</th>\n",
       "      <td>The Dark Knight</td>\n",
       "      <td>9</td>\n",
       "      <td>(2008)</td>\n",
       "    </tr>\n",
       "    <tr>\n",
       "      <th>4</th>\n",
       "      <td>12 Angry Men</td>\n",
       "      <td>9</td>\n",
       "      <td>(1957)</td>\n",
       "    </tr>\n",
       "    <tr>\n",
       "      <th>...</th>\n",
       "      <td>...</td>\n",
       "      <td>...</td>\n",
       "      <td>...</td>\n",
       "    </tr>\n",
       "    <tr>\n",
       "      <th>95</th>\n",
       "      <td>North by Northwest</td>\n",
       "      <td>8.3</td>\n",
       "      <td>(1959)</td>\n",
       "    </tr>\n",
       "    <tr>\n",
       "      <th>96</th>\n",
       "      <td>A Clockwork Orange</td>\n",
       "      <td>8.3</td>\n",
       "      <td>(1971)</td>\n",
       "    </tr>\n",
       "    <tr>\n",
       "      <th>97</th>\n",
       "      <td>Snatch</td>\n",
       "      <td>8.3</td>\n",
       "      <td>(2000)</td>\n",
       "    </tr>\n",
       "    <tr>\n",
       "      <th>98</th>\n",
       "      <td>Le fabuleux destin d'Amélie Poulain</td>\n",
       "      <td>8.3</td>\n",
       "      <td>(2001)</td>\n",
       "    </tr>\n",
       "    <tr>\n",
       "      <th>99</th>\n",
       "      <td>The Kid</td>\n",
       "      <td>8.3</td>\n",
       "      <td>(1921)</td>\n",
       "    </tr>\n",
       "  </tbody>\n",
       "</table>\n",
       "<p>100 rows × 3 columns</p>\n",
       "</div>"
      ],
      "text/plain": [
       "                             Movie Name IMDB rating Year of Release\n",
       "0              The Shawshank Redemption         9.3          (1994)\n",
       "1                         The Godfather         9.2          (1972)\n",
       "2                The Godfather: Part II           9          (1974)\n",
       "3                       The Dark Knight           9          (2008)\n",
       "4                          12 Angry Men           9          (1957)\n",
       "..                                  ...         ...             ...\n",
       "95                   North by Northwest         8.3          (1959)\n",
       "96                   A Clockwork Orange         8.3          (1971)\n",
       "97                               Snatch         8.3          (2000)\n",
       "98  Le fabuleux destin d'Amélie Poulain         8.3          (2001)\n",
       "99                              The Kid         8.3          (1921)\n",
       "\n",
       "[100 rows x 3 columns]"
      ]
     },
     "execution_count": 27,
     "metadata": {},
     "output_type": "execute_result"
    }
   ],
   "source": [
    "import pandas as pd\n",
    "\n",
    "IMDB_top_rated_movies = pd.DataFrame({})\n",
    "IMDB_top_rated_movies['Movie Name']=movie_names\n",
    "IMDB_top_rated_movies['IMDB rating']=Rating\n",
    "IMDB_top_rated_movies['Year of Release']=Year\n",
    "IMDB_top_rated_movies"
   ]
  },
  {
   "cell_type": "code",
   "execution_count": null,
   "id": "3ec8619e",
   "metadata": {},
   "outputs": [],
   "source": []
  },
  {
   "cell_type": "markdown",
   "id": "395bd68c",
   "metadata": {},
   "source": [
    "# 3. Write a python program to display IMDB’s Top rated 100 Indian movies’ data (i.e. Name, IMDB rating, Year of release)."
   ]
  },
  {
   "cell_type": "code",
   "execution_count": 28,
   "id": "85b087b4",
   "metadata": {},
   "outputs": [
    {
     "name": "stdout",
     "output_type": "stream",
     "text": [
      "<Response [200]>\n"
     ]
    }
   ],
   "source": [
    "import requests\n",
    "from bs4 import BeautifulSoup\n",
    "src = requests.get(\"https://www.imdb.com/india/top-rated-indian-movies/\")\n",
    "print(src)\n",
    "soup = BeautifulSoup(src.content, 'lxml')"
   ]
  },
  {
   "cell_type": "code",
   "execution_count": 29,
   "id": "3cf2f167",
   "metadata": {},
   "outputs": [
    {
     "data": {
      "text/plain": [
       "['Nayakan',\n",
       " 'Anbe Sivam',\n",
       " 'Pariyerum Perumal',\n",
       " 'Golmaal',\n",
       " 'C/o Kancharapalem',\n",
       " 'Apur Sansar',\n",
       " 'Manichitrathazhu',\n",
       " 'Kireedam',\n",
       " 'Pather Panchali',\n",
       " 'Natsamrat',\n",
       " '96',\n",
       " 'Black Friday',\n",
       " 'Thevar Magan',\n",
       " 'Kumbalangi Nights',\n",
       " 'Visaaranai',\n",
       " '3 Idiots',\n",
       " 'Soorarai Pottru',\n",
       " 'Jersey',\n",
       " 'Drishyam 2',\n",
       " 'Taare Zameen Par',\n",
       " 'Asuran',\n",
       " 'Thalapathi',\n",
       " 'Kaithi',\n",
       " 'Dangal',\n",
       " 'Sarpatta Parambarai',\n",
       " 'Devasuram',\n",
       " 'Ratsasan',\n",
       " 'Aparajito',\n",
       " 'Jaane Bhi Do Yaaro',\n",
       " 'Pyaasa',\n",
       " 'Vada Chennai',\n",
       " 'Peranbu',\n",
       " 'Guide',\n",
       " 'Thani Oruvan',\n",
       " 'Kannathil Muthamittal',\n",
       " 'Chupke Chupke',\n",
       " 'Iruvar',\n",
       " 'Spadikam',\n",
       " 'Agent Sai Srinivasa Athreya',\n",
       " 'Super Deluxe',\n",
       " 'Mahanati',\n",
       " 'Aruvi',\n",
       " 'Shershaah',\n",
       " 'Drishyam',\n",
       " 'Khosla Ka Ghosla!',\n",
       " 'Pudhu Pettai',\n",
       " 'Tumbbad',\n",
       " 'Vikram Vedha',\n",
       " 'Premam',\n",
       " 'Anniyan',\n",
       " 'Mudhalvan',\n",
       " 'Bangalore Days',\n",
       " 'Kaakkaa Muttai',\n",
       " 'Anand',\n",
       " 'Satya',\n",
       " 'Andhadhun',\n",
       " 'Dhuruvangal Pathinaaru',\n",
       " 'Papanasam',\n",
       " 'Soodhu Kavvum',\n",
       " 'Shahid',\n",
       " 'Jigarthanda',\n",
       " 'Gangs of Wasseypur',\n",
       " 'Pithamagan',\n",
       " 'Paan Singh Tomar',\n",
       " 'Bhaag Milkha Bhaag',\n",
       " 'Hera Pheri',\n",
       " 'Sairat',\n",
       " 'Sholay',\n",
       " 'Swades: We, the People',\n",
       " 'Talvar',\n",
       " 'Chak De! India',\n",
       " 'Maheshinte Prathikaaram',\n",
       " 'Ustad Hotel',\n",
       " 'Black',\n",
       " 'Zindagi Na Milegi Dobara',\n",
       " 'Mughal-E-Azam',\n",
       " 'Jo Jeeta Wohi Sikandar',\n",
       " 'Drishyam',\n",
       " 'Nil Battey Sannata',\n",
       " 'Theeran adhigaaram ondru',\n",
       " 'Charulata',\n",
       " 'Udaan',\n",
       " 'Article 15',\n",
       " 'A Wednesday',\n",
       " 'Masaan',\n",
       " 'Munna Bhai M.B.B.S.',\n",
       " 'Queen',\n",
       " 'Baasha',\n",
       " 'Sarfarosh',\n",
       " 'Alai Payuthey',\n",
       " 'Chhichhore',\n",
       " 'Dil Chahta Hai',\n",
       " 'OMG: Oh My God!',\n",
       " 'Rang De Basanti',\n",
       " 'Roja',\n",
       " 'Virumandi',\n",
       " 'Lagaan: Once Upon a Time in India',\n",
       " 'Kahaani',\n",
       " 'Andaz Apna Apna',\n",
       " 'Uri: The Surgical Strike']"
      ]
     },
     "execution_count": 29,
     "metadata": {},
     "output_type": "execute_result"
    }
   ],
   "source": [
    "movies = soup.find_all('td',class_= \"titleColumn\")\n",
    "movie_names = []\n",
    "\n",
    "for i in movies:\n",
    "    for j in i.find_all('a'):\n",
    "        movie_names.append(j.text.replace(\"\\n\",\"\")) \n",
    "movie_names[:100]"
   ]
  },
  {
   "cell_type": "code",
   "execution_count": 30,
   "id": "b28a1de7",
   "metadata": {},
   "outputs": [
    {
     "data": {
      "text/plain": [
       "['8.5',\n",
       " '8.5',\n",
       " '8.5',\n",
       " '8.5',\n",
       " '8.5',\n",
       " '8.5',\n",
       " '8.5',\n",
       " '8.5',\n",
       " '8.4',\n",
       " '8.4',\n",
       " '8.4',\n",
       " '8.4',\n",
       " '8.4',\n",
       " '8.4',\n",
       " '8.4',\n",
       " '8.4',\n",
       " '8.3',\n",
       " '8.3',\n",
       " '8.3',\n",
       " '8.3',\n",
       " '8.3',\n",
       " '8.3',\n",
       " '8.3',\n",
       " '8.3',\n",
       " '8.3',\n",
       " '8.3',\n",
       " '8.3',\n",
       " '8.3',\n",
       " '8.3',\n",
       " '8.3',\n",
       " '8.3',\n",
       " '8.3',\n",
       " '8.3',\n",
       " '8.3',\n",
       " '8.2',\n",
       " '8.2',\n",
       " '8.2',\n",
       " '8.2',\n",
       " '8.2',\n",
       " '8.2',\n",
       " '8.2',\n",
       " '8.2',\n",
       " '8.2',\n",
       " '8.2',\n",
       " '8.2',\n",
       " '8.2',\n",
       " '8.2',\n",
       " '8.2',\n",
       " '8.2',\n",
       " '8.2',\n",
       " '8.2',\n",
       " '8.2',\n",
       " '8.2',\n",
       " '8.2',\n",
       " '8.2',\n",
       " '8.2',\n",
       " '8.2',\n",
       " '8.2',\n",
       " '8.2',\n",
       " '8.2',\n",
       " '8.1',\n",
       " '8.1',\n",
       " '8.1',\n",
       " '8.1',\n",
       " '8.1',\n",
       " '8.1',\n",
       " '8.1',\n",
       " '8.1',\n",
       " '8.1',\n",
       " '8.1',\n",
       " '8.1',\n",
       " '8.1',\n",
       " '8.1',\n",
       " '8.1',\n",
       " '8.1',\n",
       " '8.1',\n",
       " '8.1',\n",
       " '8.1',\n",
       " '8.1',\n",
       " '8.1',\n",
       " '8.1',\n",
       " '8.1',\n",
       " '8.1',\n",
       " '8.1',\n",
       " '8.1',\n",
       " '8.1',\n",
       " '8.1',\n",
       " '8.1',\n",
       " '8.1',\n",
       " '8.1',\n",
       " '8.1',\n",
       " '8.1',\n",
       " '8.1',\n",
       " '8.1',\n",
       " '8.1',\n",
       " '8.1',\n",
       " '8.1',\n",
       " '8.1',\n",
       " '8.1',\n",
       " '8.1']"
      ]
     },
     "execution_count": 30,
     "metadata": {},
     "output_type": "execute_result"
    }
   ],
   "source": [
    "rating = soup.find_all('td',class_= \"ratingColumn imdbRating\")\n",
    "Rating = []\n",
    "\n",
    "for i in rating:\n",
    "    Rating.append(i.text.replace(\"\\n\",\"\"))\n",
    "Rating[:100]"
   ]
  },
  {
   "cell_type": "code",
   "execution_count": 31,
   "id": "908a2483",
   "metadata": {},
   "outputs": [
    {
     "data": {
      "text/plain": [
       "['(1987)',\n",
       " '(2003)',\n",
       " '(2018)',\n",
       " '(1979)',\n",
       " '(2018)',\n",
       " '(1959)',\n",
       " '(1993)',\n",
       " '(1989)',\n",
       " '(1955)',\n",
       " '(2016)',\n",
       " '(2018)',\n",
       " '(2004)',\n",
       " '(1992)',\n",
       " '(2019)',\n",
       " '(2015)',\n",
       " '(2009)',\n",
       " '(2020)',\n",
       " '(2019)',\n",
       " '(2021)',\n",
       " '(2007)',\n",
       " '(2019)',\n",
       " '(1991)',\n",
       " '(2019)',\n",
       " '(2016)',\n",
       " '(2021)',\n",
       " '(1993)',\n",
       " '(2018)',\n",
       " '(1956)',\n",
       " '(1983)',\n",
       " '(1957)',\n",
       " '(2018)',\n",
       " '(2018)',\n",
       " '(1965)',\n",
       " '(2015)',\n",
       " '(2002)',\n",
       " '(1975)',\n",
       " '(1997)',\n",
       " '(1995)',\n",
       " '(2019)',\n",
       " '(2019)',\n",
       " '(2018)',\n",
       " '(2016)',\n",
       " '(2021)',\n",
       " '(2013)',\n",
       " '(2006)',\n",
       " '(2006)',\n",
       " '(2018)',\n",
       " '(2017)',\n",
       " '(2015)',\n",
       " '(2005)',\n",
       " '(1999)',\n",
       " '(2014)',\n",
       " '(2014)',\n",
       " '(1971)',\n",
       " '(1998)',\n",
       " '(2018)',\n",
       " '(2016)',\n",
       " '(2015)',\n",
       " '(2013)',\n",
       " '(2012)',\n",
       " '(2014)',\n",
       " '(2012)',\n",
       " '(2003)',\n",
       " '(2012)',\n",
       " '(2013)',\n",
       " '(2000)',\n",
       " '(2016)',\n",
       " '(1975)',\n",
       " '(2004)',\n",
       " '(2015)',\n",
       " '(2007)',\n",
       " '(2016)',\n",
       " '(2012)',\n",
       " '(2005)',\n",
       " '(2011)',\n",
       " '(1960)',\n",
       " '(1992)',\n",
       " '(2015)',\n",
       " '(2015)',\n",
       " '(2017)',\n",
       " '(1964)',\n",
       " '(2010)',\n",
       " '(2019)',\n",
       " '(2008)',\n",
       " '(2015)',\n",
       " '(2003)',\n",
       " '(2013)',\n",
       " '(1995)',\n",
       " '(1999)',\n",
       " '(2000)',\n",
       " '(2019)',\n",
       " '(2001)',\n",
       " '(2012)',\n",
       " '(2006)',\n",
       " '(1992)',\n",
       " '(2004)',\n",
       " '(2001)',\n",
       " '(2012)',\n",
       " '(1994)',\n",
       " '(2018)']"
      ]
     },
     "execution_count": 31,
     "metadata": {},
     "output_type": "execute_result"
    }
   ],
   "source": [
    "year = soup.find_all('span',class_= \"secondaryInfo\")\n",
    "Year = []\n",
    "\n",
    "for i in year:\n",
    "    Year.append(i.text)\n",
    "Year[:100]"
   ]
  },
  {
   "cell_type": "code",
   "execution_count": 32,
   "id": "3f991035",
   "metadata": {},
   "outputs": [
    {
     "data": {
      "text/html": [
       "<div>\n",
       "<style scoped>\n",
       "    .dataframe tbody tr th:only-of-type {\n",
       "        vertical-align: middle;\n",
       "    }\n",
       "\n",
       "    .dataframe tbody tr th {\n",
       "        vertical-align: top;\n",
       "    }\n",
       "\n",
       "    .dataframe thead th {\n",
       "        text-align: right;\n",
       "    }\n",
       "</style>\n",
       "<table border=\"1\" class=\"dataframe\">\n",
       "  <thead>\n",
       "    <tr style=\"text-align: right;\">\n",
       "      <th></th>\n",
       "      <th>Movie Name</th>\n",
       "      <th>IMDB rating</th>\n",
       "      <th>Year of Release</th>\n",
       "    </tr>\n",
       "  </thead>\n",
       "  <tbody>\n",
       "    <tr>\n",
       "      <th>0</th>\n",
       "      <td>Nayakan</td>\n",
       "      <td>8.5</td>\n",
       "      <td>(1987)</td>\n",
       "    </tr>\n",
       "    <tr>\n",
       "      <th>1</th>\n",
       "      <td>Anbe Sivam</td>\n",
       "      <td>8.5</td>\n",
       "      <td>(2003)</td>\n",
       "    </tr>\n",
       "    <tr>\n",
       "      <th>2</th>\n",
       "      <td>Pariyerum Perumal</td>\n",
       "      <td>8.5</td>\n",
       "      <td>(2018)</td>\n",
       "    </tr>\n",
       "    <tr>\n",
       "      <th>3</th>\n",
       "      <td>Golmaal</td>\n",
       "      <td>8.5</td>\n",
       "      <td>(1979)</td>\n",
       "    </tr>\n",
       "    <tr>\n",
       "      <th>4</th>\n",
       "      <td>C/o Kancharapalem</td>\n",
       "      <td>8.5</td>\n",
       "      <td>(2018)</td>\n",
       "    </tr>\n",
       "    <tr>\n",
       "      <th>...</th>\n",
       "      <td>...</td>\n",
       "      <td>...</td>\n",
       "      <td>...</td>\n",
       "    </tr>\n",
       "    <tr>\n",
       "      <th>95</th>\n",
       "      <td>Virumandi</td>\n",
       "      <td>8.1</td>\n",
       "      <td>(2004)</td>\n",
       "    </tr>\n",
       "    <tr>\n",
       "      <th>96</th>\n",
       "      <td>Lagaan: Once Upon a Time in India</td>\n",
       "      <td>8.1</td>\n",
       "      <td>(2001)</td>\n",
       "    </tr>\n",
       "    <tr>\n",
       "      <th>97</th>\n",
       "      <td>Kahaani</td>\n",
       "      <td>8.1</td>\n",
       "      <td>(2012)</td>\n",
       "    </tr>\n",
       "    <tr>\n",
       "      <th>98</th>\n",
       "      <td>Andaz Apna Apna</td>\n",
       "      <td>8.1</td>\n",
       "      <td>(1994)</td>\n",
       "    </tr>\n",
       "    <tr>\n",
       "      <th>99</th>\n",
       "      <td>Uri: The Surgical Strike</td>\n",
       "      <td>8.1</td>\n",
       "      <td>(2018)</td>\n",
       "    </tr>\n",
       "  </tbody>\n",
       "</table>\n",
       "<p>100 rows × 3 columns</p>\n",
       "</div>"
      ],
      "text/plain": [
       "                           Movie Name IMDB rating Year of Release\n",
       "0                             Nayakan         8.5          (1987)\n",
       "1                          Anbe Sivam         8.5          (2003)\n",
       "2                   Pariyerum Perumal         8.5          (2018)\n",
       "3                             Golmaal         8.5          (1979)\n",
       "4                   C/o Kancharapalem         8.5          (2018)\n",
       "..                                ...         ...             ...\n",
       "95                          Virumandi         8.1          (2004)\n",
       "96  Lagaan: Once Upon a Time in India         8.1          (2001)\n",
       "97                            Kahaani         8.1          (2012)\n",
       "98                    Andaz Apna Apna         8.1          (1994)\n",
       "99           Uri: The Surgical Strike         8.1          (2018)\n",
       "\n",
       "[100 rows x 3 columns]"
      ]
     },
     "execution_count": 32,
     "metadata": {},
     "output_type": "execute_result"
    }
   ],
   "source": [
    "import pandas as pd\n",
    "Top_rated_Indian_Movies = pd.DataFrame({})\n",
    "Top_rated_Indian_Movies['Movie Name']=movie_names[:100]\n",
    "Top_rated_Indian_Movies['IMDB rating']=Rating[:100]\n",
    "Top_rated_Indian_Movies['Year of Release']=Year[:100]\n",
    "Top_rated_Indian_Movies"
   ]
  },
  {
   "cell_type": "code",
   "execution_count": null,
   "id": "eca869df",
   "metadata": {},
   "outputs": [],
   "source": []
  },
  {
   "cell_type": "markdown",
   "id": "4ca260e2",
   "metadata": {},
   "source": [
    "# 4. Write a python program to scrap book name, author name, genre and book review of any 5 books from ‘www.bookpage.com’"
   ]
  },
  {
   "cell_type": "code",
   "execution_count": 33,
   "id": "d136a722",
   "metadata": {},
   "outputs": [
    {
     "name": "stdout",
     "output_type": "stream",
     "text": [
      "<Response [200]>\n"
     ]
    }
   ],
   "source": [
    "import requests\n",
    "from bs4 import BeautifulSoup\n",
    "src = requests.get(\"https://www.bookpage.com/reviews\")\n",
    "print(src)\n",
    "soup = BeautifulSoup(src.content, 'lxml')"
   ]
  },
  {
   "cell_type": "code",
   "execution_count": 34,
   "id": "e2a189a5",
   "metadata": {},
   "outputs": [
    {
     "data": {
      "text/plain": [
       "['★ How the Word Is Passed',\n",
       " '★ You Are Your Best Thing',\n",
       " 'Beyond the Mapped Stars',\n",
       " '★ Gordo',\n",
       " '★ Two-Way Mirror']"
      ]
     },
     "execution_count": 34,
     "metadata": {},
     "output_type": "execute_result"
    }
   ],
   "source": [
    "name = soup.find_all('h4',class_ = \"italic\")\n",
    "book_name = [i.text.strip() for i in name]\n",
    "book_name[:5]"
   ]
  },
  {
   "cell_type": "code",
   "execution_count": 35,
   "id": "253ae825",
   "metadata": {},
   "outputs": [
    {
     "data": {
      "text/plain": [
       "['Clint Smith',\n",
       " 'Tarana Burke, Brené Brown, Cast',\n",
       " 'Rosalyn Eves',\n",
       " 'Jaime Cortez',\n",
       " 'Fiona Sampson']"
      ]
     },
     "execution_count": 35,
     "metadata": {},
     "output_type": "execute_result"
    }
   ],
   "source": [
    "author = soup.find_all(\"div\",class_='flex-article-content')\n",
    "author_name = [i.find('p').text.strip() for i in author]\n",
    "author_name[:5]"
   ]
  },
  {
   "cell_type": "code",
   "execution_count": 36,
   "id": "dab3d6dd",
   "metadata": {},
   "outputs": [
    {
     "data": {
      "text/plain": [
       "['Audio / Nonfiction / African American History',\n",
       " 'Audio / Nonfiction / Essays',\n",
       " 'YA / YA Fiction',\n",
       " 'Fiction / Short Stories',\n",
       " 'Nonfiction / Biography / Literary History']"
      ]
     },
     "execution_count": 36,
     "metadata": {},
     "output_type": "execute_result"
    }
   ],
   "source": [
    "genre = soup.find_all(\"p\",class_='genre-links hidden-phone')\n",
    "genre_list = [i.text.replace(\"\\n\",\"\") for i in genre]\n",
    "genre_list[:5]"
   ]
  },
  {
   "cell_type": "code",
   "execution_count": 37,
   "id": "5193c545",
   "metadata": {},
   "outputs": [
    {
     "data": {
      "text/plain": [
       "['Clint Smith’s narration of How the Word Is Passed models the courage and fortitude required to face this timely reckoning with America’s past.',\n",
       " 'Tarana Burke and Brené Brown demonstrate the power of bringing one’s authentic self to the work of deconstructing oppressive power structures.',\n",
       " 'Rosalyn Eves’ Beyond the Mapped Stars blends fiction and fact to create an adventure that doesn’t shy away from difficult topics.',\n",
       " 'As in John Steinbeck’s The Grapes of Wrath, the characters in Gordo are often poor in economic terms but lead richly complex lives.',\n",
       " 'People often think of Elizabeth Barrett Browning as a “swooning poetess,” but Fiona Sampson’s dazzling and absorbing biography is likely to change that.']"
      ]
     },
     "execution_count": 37,
     "metadata": {},
     "output_type": "execute_result"
    }
   ],
   "source": [
    "review = soup.find_all(\"p\",class_=\"excerpt\")\n",
    "review_list = [i.text.strip() for i in review]\n",
    "review_list[:5]"
   ]
  },
  {
   "cell_type": "code",
   "execution_count": 38,
   "id": "007dc0b5",
   "metadata": {},
   "outputs": [
    {
     "data": {
      "text/html": [
       "<div>\n",
       "<style scoped>\n",
       "    .dataframe tbody tr th:only-of-type {\n",
       "        vertical-align: middle;\n",
       "    }\n",
       "\n",
       "    .dataframe tbody tr th {\n",
       "        vertical-align: top;\n",
       "    }\n",
       "\n",
       "    .dataframe thead th {\n",
       "        text-align: right;\n",
       "    }\n",
       "</style>\n",
       "<table border=\"1\" class=\"dataframe\">\n",
       "  <thead>\n",
       "    <tr style=\"text-align: right;\">\n",
       "      <th></th>\n",
       "      <th>Book_name</th>\n",
       "      <th>Author_Name</th>\n",
       "      <th>Genre</th>\n",
       "      <th>Book_Review</th>\n",
       "    </tr>\n",
       "  </thead>\n",
       "  <tbody>\n",
       "    <tr>\n",
       "      <th>0</th>\n",
       "      <td>★ How the Word Is Passed</td>\n",
       "      <td>Clint Smith</td>\n",
       "      <td>Audio / Nonfiction / African American History</td>\n",
       "      <td>Clint Smith’s narration of How the Word Is Pas...</td>\n",
       "    </tr>\n",
       "    <tr>\n",
       "      <th>1</th>\n",
       "      <td>★ You Are Your Best Thing</td>\n",
       "      <td>Tarana Burke, Brené Brown, Cast</td>\n",
       "      <td>Audio / Nonfiction / Essays</td>\n",
       "      <td>Tarana Burke and Brené Brown demonstrate the p...</td>\n",
       "    </tr>\n",
       "    <tr>\n",
       "      <th>2</th>\n",
       "      <td>Beyond the Mapped Stars</td>\n",
       "      <td>Rosalyn Eves</td>\n",
       "      <td>YA / YA Fiction</td>\n",
       "      <td>Rosalyn Eves’ Beyond the Mapped Stars blends f...</td>\n",
       "    </tr>\n",
       "    <tr>\n",
       "      <th>3</th>\n",
       "      <td>★ Gordo</td>\n",
       "      <td>Jaime Cortez</td>\n",
       "      <td>Fiction / Short Stories</td>\n",
       "      <td>As in John Steinbeck’s The Grapes of Wrath, th...</td>\n",
       "    </tr>\n",
       "    <tr>\n",
       "      <th>4</th>\n",
       "      <td>★ Two-Way Mirror</td>\n",
       "      <td>Fiona Sampson</td>\n",
       "      <td>Nonfiction / Biography / Literary History</td>\n",
       "      <td>People often think of Elizabeth Barrett Browni...</td>\n",
       "    </tr>\n",
       "  </tbody>\n",
       "</table>\n",
       "</div>"
      ],
      "text/plain": [
       "                   Book_name                      Author_Name  \\\n",
       "0   ★ How the Word Is Passed                      Clint Smith   \n",
       "1  ★ You Are Your Best Thing  Tarana Burke, Brené Brown, Cast   \n",
       "2    Beyond the Mapped Stars                     Rosalyn Eves   \n",
       "3                    ★ Gordo                     Jaime Cortez   \n",
       "4           ★ Two-Way Mirror                    Fiona Sampson   \n",
       "\n",
       "                                           Genre  \\\n",
       "0  Audio / Nonfiction / African American History   \n",
       "1                    Audio / Nonfiction / Essays   \n",
       "2                                YA / YA Fiction   \n",
       "3                        Fiction / Short Stories   \n",
       "4      Nonfiction / Biography / Literary History   \n",
       "\n",
       "                                         Book_Review  \n",
       "0  Clint Smith’s narration of How the Word Is Pas...  \n",
       "1  Tarana Burke and Brené Brown demonstrate the p...  \n",
       "2  Rosalyn Eves’ Beyond the Mapped Stars blends f...  \n",
       "3  As in John Steinbeck’s The Grapes of Wrath, th...  \n",
       "4  People often think of Elizabeth Barrett Browni...  "
      ]
     },
     "execution_count": 38,
     "metadata": {},
     "output_type": "execute_result"
    }
   ],
   "source": [
    "import pandas as pd\n",
    "books = pd.DataFrame({})\n",
    "books['Book_name'] = book_name\n",
    "books['Author_Name'] = author_name\n",
    "books['Genre'] = genre_list\n",
    "books['Book_Review'] = review_list\n",
    "books[:5]"
   ]
  },
  {
   "cell_type": "code",
   "execution_count": 39,
   "id": "235306e2",
   "metadata": {},
   "outputs": [],
   "source": [
    "books.to_csv('BookReview.csv')"
   ]
  },
  {
   "cell_type": "code",
   "execution_count": null,
   "id": "6b26290e",
   "metadata": {},
   "outputs": [],
   "source": []
  },
  {
   "cell_type": "markdown",
   "id": "0b47de7f",
   "metadata": {},
   "source": [
    "# 5. Write a python program to scrape cricket rankings from ‘www.icc-cricket.com’. You have toscrape: "
   ]
  },
  {
   "cell_type": "markdown",
   "id": "34c78771",
   "metadata": {},
   "source": [
    "i) Top 10 ODI teams in men’s cricket along with the records for matches, points and rating."
   ]
  },
  {
   "cell_type": "code",
   "execution_count": 40,
   "id": "91597944",
   "metadata": {},
   "outputs": [
    {
     "name": "stdout",
     "output_type": "stream",
     "text": [
      "<Response [200]>\n"
     ]
    }
   ],
   "source": [
    "import pandas as pd\n",
    "import requests\n",
    "from bs4 import BeautifulSoup\n",
    "src = requests.get(\"https://www.icc-cricket.com/rankings/mens/team-rankings/odi\")\n",
    "print(src)\n",
    "soup = BeautifulSoup(src.content,\"lxml\")"
   ]
  },
  {
   "cell_type": "code",
   "execution_count": 41,
   "id": "f193fc5a",
   "metadata": {},
   "outputs": [
    {
     "data": {
      "text/plain": [
       "['New Zealand',\n",
       " 'England',\n",
       " 'Australia',\n",
       " 'India',\n",
       " 'South Africa',\n",
       " 'Pakistan',\n",
       " 'Bangladesh',\n",
       " 'West Indies',\n",
       " 'Sri Lanka',\n",
       " 'Afghanistan']"
      ]
     },
     "execution_count": 41,
     "metadata": {},
     "output_type": "execute_result"
    }
   ],
   "source": [
    "team_list = soup.find_all('span',class_ =\"u-hide-phablet\") \n",
    "teams = []\n",
    "for i in team_list:\n",
    "    teams.append(i.text.strip())\n",
    "teams[:10]"
   ]
  },
  {
   "cell_type": "code",
   "execution_count": 42,
   "id": "12c70f3a",
   "metadata": {},
   "outputs": [],
   "source": [
    "records = soup.find_all(\"tr\", class_ = \"table-body\")\n",
    "matches =[]\n",
    "points =[]\n",
    "ratings =[]\n",
    "\n",
    "for i in records:\n",
    "    tds = i.findAll('td')\n",
    "    matches.append(tds[2].text.strip())\n",
    "    points.append(tds[3].text.strip())\n",
    "    ratings.append(tds[4].text.strip())"
   ]
  },
  {
   "cell_type": "code",
   "execution_count": 43,
   "id": "b98ec1f4",
   "metadata": {
    "scrolled": true
   },
   "outputs": [
    {
     "data": {
      "text/html": [
       "<div>\n",
       "<style scoped>\n",
       "    .dataframe tbody tr th:only-of-type {\n",
       "        vertical-align: middle;\n",
       "    }\n",
       "\n",
       "    .dataframe tbody tr th {\n",
       "        vertical-align: top;\n",
       "    }\n",
       "\n",
       "    .dataframe thead th {\n",
       "        text-align: right;\n",
       "    }\n",
       "</style>\n",
       "<table border=\"1\" class=\"dataframe\">\n",
       "  <thead>\n",
       "    <tr style=\"text-align: right;\">\n",
       "      <th></th>\n",
       "      <th>Teams</th>\n",
       "      <th>Matches</th>\n",
       "      <th>Points</th>\n",
       "      <th>Ratings</th>\n",
       "    </tr>\n",
       "  </thead>\n",
       "  <tbody>\n",
       "    <tr>\n",
       "      <th>0</th>\n",
       "      <td>New Zealand</td>\n",
       "      <td>32</td>\n",
       "      <td>3,793</td>\n",
       "      <td>119</td>\n",
       "    </tr>\n",
       "    <tr>\n",
       "      <th>1</th>\n",
       "      <td>England</td>\n",
       "      <td>28</td>\n",
       "      <td>3,244</td>\n",
       "      <td>116</td>\n",
       "    </tr>\n",
       "    <tr>\n",
       "      <th>2</th>\n",
       "      <td>Australia</td>\n",
       "      <td>32</td>\n",
       "      <td>3,624</td>\n",
       "      <td>113</td>\n",
       "    </tr>\n",
       "    <tr>\n",
       "      <th>3</th>\n",
       "      <td>India</td>\n",
       "      <td>22</td>\n",
       "      <td>2,267</td>\n",
       "      <td>103</td>\n",
       "    </tr>\n",
       "    <tr>\n",
       "      <th>4</th>\n",
       "      <td>South Africa</td>\n",
       "      <td>27</td>\n",
       "      <td>2,524</td>\n",
       "      <td>93</td>\n",
       "    </tr>\n",
       "    <tr>\n",
       "      <th>5</th>\n",
       "      <td>Pakistan</td>\n",
       "      <td>29</td>\n",
       "      <td>2,639</td>\n",
       "      <td>91</td>\n",
       "    </tr>\n",
       "    <tr>\n",
       "      <th>6</th>\n",
       "      <td>Bangladesh</td>\n",
       "      <td>30</td>\n",
       "      <td>2,523</td>\n",
       "      <td>84</td>\n",
       "    </tr>\n",
       "    <tr>\n",
       "      <th>7</th>\n",
       "      <td>West Indies</td>\n",
       "      <td>29</td>\n",
       "      <td>2,303</td>\n",
       "      <td>79</td>\n",
       "    </tr>\n",
       "    <tr>\n",
       "      <th>8</th>\n",
       "      <td>Sri Lanka</td>\n",
       "      <td>17</td>\n",
       "      <td>1,054</td>\n",
       "      <td>62</td>\n",
       "    </tr>\n",
       "    <tr>\n",
       "      <th>9</th>\n",
       "      <td>Afghanistan</td>\n",
       "      <td>7</td>\n",
       "      <td>336</td>\n",
       "      <td>48</td>\n",
       "    </tr>\n",
       "  </tbody>\n",
       "</table>\n",
       "</div>"
      ],
      "text/plain": [
       "          Teams Matches Points Ratings\n",
       "0   New Zealand      32  3,793     119\n",
       "1       England      28  3,244     116\n",
       "2     Australia      32  3,624     113\n",
       "3         India      22  2,267     103\n",
       "4  South Africa      27  2,524      93\n",
       "5      Pakistan      29  2,639      91\n",
       "6    Bangladesh      30  2,523      84\n",
       "7   West Indies      29  2,303      79\n",
       "8     Sri Lanka      17  1,054      62\n",
       "9   Afghanistan       7    336      48"
      ]
     },
     "execution_count": 43,
     "metadata": {},
     "output_type": "execute_result"
    }
   ],
   "source": [
    "import pandas as pd\n",
    "ODI_teams = pd.DataFrame({})\n",
    "ODI_teams['Teams'] = teams[:10]\n",
    "ODI_teams['Matches'] = matches[:10]\n",
    "ODI_teams['Points'] = points[:10]\n",
    "ODI_teams['Ratings'] = ratings[:10]\n",
    "ODI_teams"
   ]
  },
  {
   "cell_type": "markdown",
   "id": "6f07c3be",
   "metadata": {},
   "source": [
    "ii) Top 10 ODI Batsmen in men along with the records of their team and rating."
   ]
  },
  {
   "cell_type": "code",
   "execution_count": 44,
   "id": "eb8dfcd3",
   "metadata": {},
   "outputs": [
    {
     "name": "stdout",
     "output_type": "stream",
     "text": [
      "<Response [200]>\n"
     ]
    }
   ],
   "source": [
    "import pandas as pd\n",
    "import requests\n",
    "from bs4 import BeautifulSoup \n",
    "src = requests.get(\"https://www.icc-cricket.com/rankings/mens/player-rankings/odi/batting\")\n",
    "print(src)\n",
    "soup = BeautifulSoup(src.content,'lxml')"
   ]
  },
  {
   "cell_type": "code",
   "execution_count": 45,
   "id": "c5c12bf4",
   "metadata": {},
   "outputs": [
    {
     "data": {
      "text/plain": [
       "['Virat Kohli',\n",
       " 'Rohit Sharma',\n",
       " 'Ross Taylor',\n",
       " 'Aaron Finch',\n",
       " 'Jonny Bairstow',\n",
       " 'David Warner',\n",
       " 'Quinton de Kock',\n",
       " 'Shai Hope',\n",
       " 'Kane Williamson',\n",
       " 'Fakhar Zaman']"
      ]
     },
     "execution_count": 45,
     "metadata": {},
     "output_type": "execute_result"
    }
   ],
   "source": [
    "batsmen_player = soup.find_all('tr', class_ = \"table-body\")\n",
    "player_name = []\n",
    "for i in batsmen_player:\n",
    "    for j in i.find_all('a'):\n",
    "        player_name.append(j.text.replace(\"\\n\",\"\")) \n",
    "player_name[:10]"
   ]
  },
  {
   "cell_type": "code",
   "execution_count": 46,
   "id": "5ee69e59",
   "metadata": {},
   "outputs": [
    {
     "data": {
      "text/plain": [
       "['IND', 'IND', 'NZ', 'AUS', 'ENG', 'AUS', 'SA', 'WI', 'NZ', 'PAK']"
      ]
     },
     "execution_count": 46,
     "metadata": {},
     "output_type": "execute_result"
    }
   ],
   "source": [
    "batsmen = soup.find_all(\"span\", class_=\"table-body__logo-text\")\n",
    "team = []\n",
    "for i in batsmen:\n",
    "    team.append(i.text.strip())\n",
    "team[:10]"
   ]
  },
  {
   "cell_type": "code",
   "execution_count": 47,
   "id": "d4a96b7d",
   "metadata": {},
   "outputs": [
    {
     "data": {
      "text/plain": [
       "['844', '813', '801', '779', '775', '762', '758', '758', '754', '741']"
      ]
     },
     "execution_count": 47,
     "metadata": {},
     "output_type": "execute_result"
    }
   ],
   "source": [
    "rating = soup.find_all(\"tr\",class_=\"table-body\")\n",
    "Rating = []\n",
    "for i in rating:\n",
    "    tds = i.findAll('td')\n",
    "    Rating.append(tds[3].text.strip())\n",
    "Rating[:10]"
   ]
  },
  {
   "cell_type": "code",
   "execution_count": 48,
   "id": "915da963",
   "metadata": {},
   "outputs": [
    {
     "data": {
      "text/html": [
       "<div>\n",
       "<style scoped>\n",
       "    .dataframe tbody tr th:only-of-type {\n",
       "        vertical-align: middle;\n",
       "    }\n",
       "\n",
       "    .dataframe tbody tr th {\n",
       "        vertical-align: top;\n",
       "    }\n",
       "\n",
       "    .dataframe thead th {\n",
       "        text-align: right;\n",
       "    }\n",
       "</style>\n",
       "<table border=\"1\" class=\"dataframe\">\n",
       "  <thead>\n",
       "    <tr style=\"text-align: right;\">\n",
       "      <th></th>\n",
       "      <th>Player_Name</th>\n",
       "      <th>Teams</th>\n",
       "      <th>Ratings</th>\n",
       "    </tr>\n",
       "  </thead>\n",
       "  <tbody>\n",
       "    <tr>\n",
       "      <th>0</th>\n",
       "      <td>Virat Kohli</td>\n",
       "      <td>IND</td>\n",
       "      <td>844</td>\n",
       "    </tr>\n",
       "    <tr>\n",
       "      <th>1</th>\n",
       "      <td>Rohit Sharma</td>\n",
       "      <td>IND</td>\n",
       "      <td>813</td>\n",
       "    </tr>\n",
       "    <tr>\n",
       "      <th>2</th>\n",
       "      <td>Ross Taylor</td>\n",
       "      <td>NZ</td>\n",
       "      <td>801</td>\n",
       "    </tr>\n",
       "    <tr>\n",
       "      <th>3</th>\n",
       "      <td>Aaron Finch</td>\n",
       "      <td>AUS</td>\n",
       "      <td>779</td>\n",
       "    </tr>\n",
       "    <tr>\n",
       "      <th>4</th>\n",
       "      <td>Jonny Bairstow</td>\n",
       "      <td>ENG</td>\n",
       "      <td>775</td>\n",
       "    </tr>\n",
       "    <tr>\n",
       "      <th>5</th>\n",
       "      <td>David Warner</td>\n",
       "      <td>AUS</td>\n",
       "      <td>762</td>\n",
       "    </tr>\n",
       "    <tr>\n",
       "      <th>6</th>\n",
       "      <td>Quinton de Kock</td>\n",
       "      <td>SA</td>\n",
       "      <td>758</td>\n",
       "    </tr>\n",
       "    <tr>\n",
       "      <th>7</th>\n",
       "      <td>Shai Hope</td>\n",
       "      <td>WI</td>\n",
       "      <td>758</td>\n",
       "    </tr>\n",
       "    <tr>\n",
       "      <th>8</th>\n",
       "      <td>Kane Williamson</td>\n",
       "      <td>NZ</td>\n",
       "      <td>754</td>\n",
       "    </tr>\n",
       "    <tr>\n",
       "      <th>9</th>\n",
       "      <td>Fakhar Zaman</td>\n",
       "      <td>PAK</td>\n",
       "      <td>741</td>\n",
       "    </tr>\n",
       "  </tbody>\n",
       "</table>\n",
       "</div>"
      ],
      "text/plain": [
       "       Player_Name Teams Ratings\n",
       "0      Virat Kohli   IND     844\n",
       "1     Rohit Sharma   IND     813\n",
       "2      Ross Taylor    NZ     801\n",
       "3      Aaron Finch   AUS     779\n",
       "4   Jonny Bairstow   ENG     775\n",
       "5     David Warner   AUS     762\n",
       "6  Quinton de Kock    SA     758\n",
       "7        Shai Hope    WI     758\n",
       "8  Kane Williamson    NZ     754\n",
       "9     Fakhar Zaman   PAK     741"
      ]
     },
     "execution_count": 48,
     "metadata": {},
     "output_type": "execute_result"
    }
   ],
   "source": [
    "import pandas as pd\n",
    "ODI_batsmen_team = pd.DataFrame({})\n",
    "ODI_batsmen_team['Player_Name'] = player_name\n",
    "ODI_batsmen_team['Teams'] = team\n",
    "ODI_batsmen_team['Ratings'] = Rating\n",
    "ODI_batsmen_team[:10]"
   ]
  },
  {
   "cell_type": "code",
   "execution_count": null,
   "id": "0f3b2c54",
   "metadata": {},
   "outputs": [],
   "source": []
  },
  {
   "cell_type": "markdown",
   "id": "c2912b16",
   "metadata": {},
   "source": [
    "iii) Top 10 ODI bowlers along with the records of their team and rating."
   ]
  },
  {
   "cell_type": "code",
   "execution_count": 49,
   "id": "90911ffe",
   "metadata": {},
   "outputs": [
    {
     "name": "stdout",
     "output_type": "stream",
     "text": [
      "<Response [200]>\n"
     ]
    }
   ],
   "source": [
    "import pandas as pd\n",
    "import requests\n",
    "from bs4 import BeautifulSoup \n",
    "src = requests.get(\"https://www.icc-cricket.com/rankings/mens/player-rankings/odi/bowling\")\n",
    "print(src)\n",
    "soup = BeautifulSoup(src.content,'lxml')"
   ]
  },
  {
   "cell_type": "code",
   "execution_count": 50,
   "id": "7803e87c",
   "metadata": {},
   "outputs": [
    {
     "data": {
      "text/plain": [
       "['Josh Hazlewood',\n",
       " 'Mujeeb Ur Rahman',\n",
       " 'Chris Woakes',\n",
       " 'Mehedi Hasan',\n",
       " 'Matt Henry',\n",
       " 'Jasprit Bumrah',\n",
       " 'Mitchell Starc',\n",
       " 'Shakib Al Hasan',\n",
       " 'Kagiso Rabada',\n",
       " 'Mustafizur Rahman']"
      ]
     },
     "execution_count": 50,
     "metadata": {},
     "output_type": "execute_result"
    }
   ],
   "source": [
    "bowler = soup.find_all('tr', class_ = \"table-body\")\n",
    "player_name = []\n",
    "for i in bowler:\n",
    "    for j in i.find_all('a'):\n",
    "        player_name.append(j.text.replace(\"\\n\",\"\")) \n",
    "player_name[:10]"
   ]
  },
  {
   "cell_type": "code",
   "execution_count": 51,
   "id": "8a545fb5",
   "metadata": {},
   "outputs": [
    {
     "data": {
      "text/plain": [
       "['AUS', 'AFG', 'ENG', 'BAN', 'NZ', 'IND', 'AUS', 'BAN', 'SA', 'BAN']"
      ]
     },
     "execution_count": 51,
     "metadata": {},
     "output_type": "execute_result"
    }
   ],
   "source": [
    "bowler_team = soup.find_all(\"span\", class_=\"table-body__logo-text\")\n",
    "team = []\n",
    "for i in bowler_team:\n",
    "    team.append(i.text.strip())\n",
    "team[:10]"
   ]
  },
  {
   "cell_type": "code",
   "execution_count": 52,
   "id": "0b9cc571",
   "metadata": {},
   "outputs": [
    {
     "data": {
      "text/plain": [
       "['709', '708', '700', '692', '691', '679', '652', '650', '648', '640']"
      ]
     },
     "execution_count": 52,
     "metadata": {},
     "output_type": "execute_result"
    }
   ],
   "source": [
    "rating = soup.find_all(\"tr\",class_=\"table-body\")\n",
    "Rating = []\n",
    "for i in rating:\n",
    "    tds = i.findAll('td')\n",
    "    Rating.append(tds[3].text.strip())\n",
    "Rating[:10]"
   ]
  },
  {
   "cell_type": "code",
   "execution_count": 53,
   "id": "bf3c4922",
   "metadata": {},
   "outputs": [
    {
     "data": {
      "text/html": [
       "<div>\n",
       "<style scoped>\n",
       "    .dataframe tbody tr th:only-of-type {\n",
       "        vertical-align: middle;\n",
       "    }\n",
       "\n",
       "    .dataframe tbody tr th {\n",
       "        vertical-align: top;\n",
       "    }\n",
       "\n",
       "    .dataframe thead th {\n",
       "        text-align: right;\n",
       "    }\n",
       "</style>\n",
       "<table border=\"1\" class=\"dataframe\">\n",
       "  <thead>\n",
       "    <tr style=\"text-align: right;\">\n",
       "      <th></th>\n",
       "      <th>Player_Name</th>\n",
       "      <th>Teams</th>\n",
       "      <th>Ratings</th>\n",
       "    </tr>\n",
       "  </thead>\n",
       "  <tbody>\n",
       "    <tr>\n",
       "      <th>0</th>\n",
       "      <td>Josh Hazlewood</td>\n",
       "      <td>AUS</td>\n",
       "      <td>709</td>\n",
       "    </tr>\n",
       "    <tr>\n",
       "      <th>1</th>\n",
       "      <td>Mujeeb Ur Rahman</td>\n",
       "      <td>AFG</td>\n",
       "      <td>708</td>\n",
       "    </tr>\n",
       "    <tr>\n",
       "      <th>2</th>\n",
       "      <td>Chris Woakes</td>\n",
       "      <td>ENG</td>\n",
       "      <td>700</td>\n",
       "    </tr>\n",
       "    <tr>\n",
       "      <th>3</th>\n",
       "      <td>Mehedi Hasan</td>\n",
       "      <td>BAN</td>\n",
       "      <td>692</td>\n",
       "    </tr>\n",
       "    <tr>\n",
       "      <th>4</th>\n",
       "      <td>Matt Henry</td>\n",
       "      <td>NZ</td>\n",
       "      <td>691</td>\n",
       "    </tr>\n",
       "    <tr>\n",
       "      <th>5</th>\n",
       "      <td>Jasprit Bumrah</td>\n",
       "      <td>IND</td>\n",
       "      <td>679</td>\n",
       "    </tr>\n",
       "    <tr>\n",
       "      <th>6</th>\n",
       "      <td>Mitchell Starc</td>\n",
       "      <td>AUS</td>\n",
       "      <td>652</td>\n",
       "    </tr>\n",
       "    <tr>\n",
       "      <th>7</th>\n",
       "      <td>Shakib Al Hasan</td>\n",
       "      <td>BAN</td>\n",
       "      <td>650</td>\n",
       "    </tr>\n",
       "    <tr>\n",
       "      <th>8</th>\n",
       "      <td>Kagiso Rabada</td>\n",
       "      <td>SA</td>\n",
       "      <td>648</td>\n",
       "    </tr>\n",
       "    <tr>\n",
       "      <th>9</th>\n",
       "      <td>Mustafizur Rahman</td>\n",
       "      <td>BAN</td>\n",
       "      <td>640</td>\n",
       "    </tr>\n",
       "  </tbody>\n",
       "</table>\n",
       "</div>"
      ],
      "text/plain": [
       "         Player_Name Teams Ratings\n",
       "0     Josh Hazlewood   AUS     709\n",
       "1   Mujeeb Ur Rahman   AFG     708\n",
       "2       Chris Woakes   ENG     700\n",
       "3       Mehedi Hasan   BAN     692\n",
       "4         Matt Henry    NZ     691\n",
       "5     Jasprit Bumrah   IND     679\n",
       "6     Mitchell Starc   AUS     652\n",
       "7    Shakib Al Hasan   BAN     650\n",
       "8      Kagiso Rabada    SA     648\n",
       "9  Mustafizur Rahman   BAN     640"
      ]
     },
     "execution_count": 53,
     "metadata": {},
     "output_type": "execute_result"
    }
   ],
   "source": [
    "import pandas as pd\n",
    "ODI_bowler_team = pd.DataFrame({})\n",
    "ODI_bowler_team['Player_Name'] = player_name\n",
    "ODI_bowler_team['Teams'] = team\n",
    "ODI_bowler_team['Ratings'] = Rating\n",
    "ODI_bowler_team[:10]"
   ]
  },
  {
   "cell_type": "code",
   "execution_count": null,
   "id": "e43802bd",
   "metadata": {},
   "outputs": [],
   "source": []
  },
  {
   "cell_type": "markdown",
   "id": "770970ae",
   "metadata": {},
   "source": [
    "# 6. Write a python program to scrape cricket rankings from ‘www.icc-cricket.com’. You have toscrape:"
   ]
  },
  {
   "cell_type": "markdown",
   "id": "27cc1348",
   "metadata": {},
   "source": [
    "i) Top 10 ODI teams in women’s cricket along with the records for matches, points and rating."
   ]
  },
  {
   "cell_type": "code",
   "execution_count": 54,
   "id": "df3cc91a",
   "metadata": {},
   "outputs": [
    {
     "name": "stdout",
     "output_type": "stream",
     "text": [
      "<Response [200]>\n"
     ]
    }
   ],
   "source": [
    "import pandas as pd\n",
    "import requests\n",
    "from bs4 import BeautifulSoup \n",
    "src = requests.get(\"https://www.icc-cricket.com/rankings/womens/team-rankings/odi\")\n",
    "print(src)\n",
    "soup = BeautifulSoup(src.content,'lxml')"
   ]
  },
  {
   "cell_type": "code",
   "execution_count": 55,
   "id": "a42b6382",
   "metadata": {},
   "outputs": [
    {
     "data": {
      "text/plain": [
       "['Australia',\n",
       " 'England',\n",
       " 'South Africa',\n",
       " 'India',\n",
       " 'New Zealand',\n",
       " 'West Indies',\n",
       " 'Pakistan',\n",
       " 'Bangladesh',\n",
       " 'Sri Lanka']"
      ]
     },
     "execution_count": 55,
     "metadata": {},
     "output_type": "execute_result"
    }
   ],
   "source": [
    "women_team_list = soup.find_all('span',class_ =\"u-hide-phablet\") \n",
    "women_teams = []\n",
    "for i in women_team_list:\n",
    "    women_teams.append(i.text.strip())\n",
    "women_teams[:9]"
   ]
  },
  {
   "cell_type": "code",
   "execution_count": 56,
   "id": "e442f60f",
   "metadata": {},
   "outputs": [],
   "source": [
    "Women_records = soup.find_all(\"tr\", class_ = \"table-body\")\n",
    "women_matches =[]\n",
    "women_points =[]\n",
    "women_ratings =[]\n",
    "\n",
    "for i in Women_records:\n",
    "    tds = i.findAll('td')\n",
    "    women_matches.append(tds[2].text.strip())\n",
    "    women_points.append(tds[3].text.strip())\n",
    "    women_ratings.append(tds[4].text.strip())"
   ]
  },
  {
   "cell_type": "code",
   "execution_count": 57,
   "id": "1ce23cb5",
   "metadata": {},
   "outputs": [
    {
     "data": {
      "text/html": [
       "<div>\n",
       "<style scoped>\n",
       "    .dataframe tbody tr th:only-of-type {\n",
       "        vertical-align: middle;\n",
       "    }\n",
       "\n",
       "    .dataframe tbody tr th {\n",
       "        vertical-align: top;\n",
       "    }\n",
       "\n",
       "    .dataframe thead th {\n",
       "        text-align: right;\n",
       "    }\n",
       "</style>\n",
       "<table border=\"1\" class=\"dataframe\">\n",
       "  <thead>\n",
       "    <tr style=\"text-align: right;\">\n",
       "      <th></th>\n",
       "      <th>Teams</th>\n",
       "      <th>Matches</th>\n",
       "      <th>Points</th>\n",
       "      <th>Ratings</th>\n",
       "    </tr>\n",
       "  </thead>\n",
       "  <tbody>\n",
       "    <tr>\n",
       "      <th>0</th>\n",
       "      <td>Australia</td>\n",
       "      <td>20</td>\n",
       "      <td>2,370</td>\n",
       "      <td>119</td>\n",
       "    </tr>\n",
       "    <tr>\n",
       "      <th>1</th>\n",
       "      <td>England</td>\n",
       "      <td>24</td>\n",
       "      <td>2,828</td>\n",
       "      <td>118</td>\n",
       "    </tr>\n",
       "    <tr>\n",
       "      <th>2</th>\n",
       "      <td>South Africa</td>\n",
       "      <td>23</td>\n",
       "      <td>2,535</td>\n",
       "      <td>110</td>\n",
       "    </tr>\n",
       "    <tr>\n",
       "      <th>3</th>\n",
       "      <td>India</td>\n",
       "      <td>21</td>\n",
       "      <td>1,947</td>\n",
       "      <td>93</td>\n",
       "    </tr>\n",
       "    <tr>\n",
       "      <th>4</th>\n",
       "      <td>New Zealand</td>\n",
       "      <td>17</td>\n",
       "      <td>1,427</td>\n",
       "      <td>84</td>\n",
       "    </tr>\n",
       "    <tr>\n",
       "      <th>5</th>\n",
       "      <td>West Indies</td>\n",
       "      <td>20</td>\n",
       "      <td>1,496</td>\n",
       "      <td>75</td>\n",
       "    </tr>\n",
       "    <tr>\n",
       "      <th>6</th>\n",
       "      <td>Pakistan</td>\n",
       "      <td>5</td>\n",
       "      <td>306</td>\n",
       "      <td>61</td>\n",
       "    </tr>\n",
       "    <tr>\n",
       "      <th>7</th>\n",
       "      <td>Bangladesh</td>\n",
       "      <td>11</td>\n",
       "      <td>519</td>\n",
       "      <td>47</td>\n",
       "    </tr>\n",
       "    <tr>\n",
       "      <th>8</th>\n",
       "      <td>Sri Lanka</td>\n",
       "      <td>2</td>\n",
       "      <td>25</td>\n",
       "      <td>13</td>\n",
       "    </tr>\n",
       "  </tbody>\n",
       "</table>\n",
       "</div>"
      ],
      "text/plain": [
       "          Teams Matches Points Ratings\n",
       "0     Australia      20  2,370     119\n",
       "1       England      24  2,828     118\n",
       "2  South Africa      23  2,535     110\n",
       "3         India      21  1,947      93\n",
       "4   New Zealand      17  1,427      84\n",
       "5   West Indies      20  1,496      75\n",
       "6      Pakistan       5    306      61\n",
       "7    Bangladesh      11    519      47\n",
       "8     Sri Lanka       2     25      13"
      ]
     },
     "execution_count": 57,
     "metadata": {},
     "output_type": "execute_result"
    }
   ],
   "source": [
    "import pandas as pd\n",
    "ODI_Women_team = pd.DataFrame({})\n",
    "ODI_Women_team['Teams'] = women_teams[:9]\n",
    "ODI_Women_team['Matches'] =women_matches[:9]\n",
    "ODI_Women_team['Points'] = women_points[:9]\n",
    "ODI_Women_team['Ratings'] = women_ratings[:9]\n",
    "ODI_Women_team"
   ]
  },
  {
   "cell_type": "code",
   "execution_count": null,
   "id": "9592a7c8",
   "metadata": {},
   "outputs": [],
   "source": []
  },
  {
   "cell_type": "markdown",
   "id": "40e52261",
   "metadata": {},
   "source": [
    "ii) Top 10 women’s ODI players along with the records of their team and rating."
   ]
  },
  {
   "cell_type": "code",
   "execution_count": 58,
   "id": "2fe7d507",
   "metadata": {},
   "outputs": [
    {
     "name": "stdout",
     "output_type": "stream",
     "text": [
      "<Response [200]>\n"
     ]
    }
   ],
   "source": [
    "import pandas as pd\n",
    "import requests\n",
    "from bs4 import BeautifulSoup \n",
    "src = requests.get(\"https://www.icc-cricket.com/rankings/womens/player-rankings/odi/batting\")\n",
    "print(src)\n",
    "soup = BeautifulSoup(src.content,'lxml')"
   ]
  },
  {
   "cell_type": "code",
   "execution_count": 59,
   "id": "01e4683a",
   "metadata": {},
   "outputs": [
    {
     "data": {
      "text/plain": [
       "['Lizelle Lee',\n",
       " 'Alyssa Healy',\n",
       " 'Tammy Beaumont',\n",
       " 'Stafanie Taylor',\n",
       " 'Meg Lanning',\n",
       " 'Amy Satterthwaite',\n",
       " 'Natalie Sciver',\n",
       " 'Smriti Mandhana',\n",
       " 'Laura Wolvaardt',\n",
       " 'Ellyse Perry']"
      ]
     },
     "execution_count": 59,
     "metadata": {},
     "output_type": "execute_result"
    }
   ],
   "source": [
    "batsmen_player = soup.find_all('tr', class_ = \"table-body\")\n",
    "player_name = []\n",
    "for i in batsmen_player:\n",
    "    for j in i.find_all('a'):\n",
    "        player_name.append(j.text.replace(\"\\n\",\"\")) \n",
    "player_name[:10]"
   ]
  },
  {
   "cell_type": "code",
   "execution_count": 60,
   "id": "53a2d397",
   "metadata": {},
   "outputs": [
    {
     "data": {
      "text/plain": [
       "['SA', 'AUS', 'ENG', 'WI', 'AUS', 'NZ', 'ENG', 'IND', 'SA', 'AUS']"
      ]
     },
     "execution_count": 60,
     "metadata": {},
     "output_type": "execute_result"
    }
   ],
   "source": [
    "batsmen = soup.find_all(\"span\", class_=\"table-body__logo-text\")\n",
    "team = []\n",
    "for i in batsmen:\n",
    "    team.append(i.text.strip())\n",
    "team[:10]"
   ]
  },
  {
   "cell_type": "code",
   "execution_count": 61,
   "id": "498c7678",
   "metadata": {},
   "outputs": [
    {
     "data": {
      "text/plain": [
       "['758', '756', '754', '736', '723', '715', '706', '701', '683', '679']"
      ]
     },
     "execution_count": 61,
     "metadata": {},
     "output_type": "execute_result"
    }
   ],
   "source": [
    "rating = soup.find_all(\"tr\",class_=\"table-body\")\n",
    "Rating = []\n",
    "for i in rating:\n",
    "    tds = i.findAll('td')\n",
    "    Rating.append(tds[3].text.strip())\n",
    "Rating[:10]"
   ]
  },
  {
   "cell_type": "code",
   "execution_count": 62,
   "id": "23093565",
   "metadata": {},
   "outputs": [
    {
     "data": {
      "text/html": [
       "<div>\n",
       "<style scoped>\n",
       "    .dataframe tbody tr th:only-of-type {\n",
       "        vertical-align: middle;\n",
       "    }\n",
       "\n",
       "    .dataframe tbody tr th {\n",
       "        vertical-align: top;\n",
       "    }\n",
       "\n",
       "    .dataframe thead th {\n",
       "        text-align: right;\n",
       "    }\n",
       "</style>\n",
       "<table border=\"1\" class=\"dataframe\">\n",
       "  <thead>\n",
       "    <tr style=\"text-align: right;\">\n",
       "      <th></th>\n",
       "      <th>Player_Name</th>\n",
       "      <th>Teams</th>\n",
       "      <th>Ratings</th>\n",
       "    </tr>\n",
       "  </thead>\n",
       "  <tbody>\n",
       "    <tr>\n",
       "      <th>0</th>\n",
       "      <td>Lizelle Lee</td>\n",
       "      <td>SA</td>\n",
       "      <td>758</td>\n",
       "    </tr>\n",
       "    <tr>\n",
       "      <th>1</th>\n",
       "      <td>Alyssa Healy</td>\n",
       "      <td>AUS</td>\n",
       "      <td>756</td>\n",
       "    </tr>\n",
       "    <tr>\n",
       "      <th>2</th>\n",
       "      <td>Tammy Beaumont</td>\n",
       "      <td>ENG</td>\n",
       "      <td>754</td>\n",
       "    </tr>\n",
       "    <tr>\n",
       "      <th>3</th>\n",
       "      <td>Stafanie Taylor</td>\n",
       "      <td>WI</td>\n",
       "      <td>736</td>\n",
       "    </tr>\n",
       "    <tr>\n",
       "      <th>4</th>\n",
       "      <td>Meg Lanning</td>\n",
       "      <td>AUS</td>\n",
       "      <td>723</td>\n",
       "    </tr>\n",
       "    <tr>\n",
       "      <th>5</th>\n",
       "      <td>Amy Satterthwaite</td>\n",
       "      <td>NZ</td>\n",
       "      <td>715</td>\n",
       "    </tr>\n",
       "    <tr>\n",
       "      <th>6</th>\n",
       "      <td>Natalie Sciver</td>\n",
       "      <td>ENG</td>\n",
       "      <td>706</td>\n",
       "    </tr>\n",
       "    <tr>\n",
       "      <th>7</th>\n",
       "      <td>Smriti Mandhana</td>\n",
       "      <td>IND</td>\n",
       "      <td>701</td>\n",
       "    </tr>\n",
       "    <tr>\n",
       "      <th>8</th>\n",
       "      <td>Laura Wolvaardt</td>\n",
       "      <td>SA</td>\n",
       "      <td>683</td>\n",
       "    </tr>\n",
       "    <tr>\n",
       "      <th>9</th>\n",
       "      <td>Ellyse Perry</td>\n",
       "      <td>AUS</td>\n",
       "      <td>679</td>\n",
       "    </tr>\n",
       "  </tbody>\n",
       "</table>\n",
       "</div>"
      ],
      "text/plain": [
       "         Player_Name Teams Ratings\n",
       "0        Lizelle Lee    SA     758\n",
       "1       Alyssa Healy   AUS     756\n",
       "2     Tammy Beaumont   ENG     754\n",
       "3    Stafanie Taylor    WI     736\n",
       "4        Meg Lanning   AUS     723\n",
       "5  Amy Satterthwaite    NZ     715\n",
       "6     Natalie Sciver   ENG     706\n",
       "7    Smriti Mandhana   IND     701\n",
       "8    Laura Wolvaardt    SA     683\n",
       "9       Ellyse Perry   AUS     679"
      ]
     },
     "execution_count": 62,
     "metadata": {},
     "output_type": "execute_result"
    }
   ],
   "source": [
    "import pandas as pd\n",
    "ODI_Women_batsmen_team = pd.DataFrame({})\n",
    "ODI_Women_batsmen_team['Player_Name'] = player_name\n",
    "ODI_Women_batsmen_team['Teams'] = team\n",
    "ODI_Women_batsmen_team['Ratings'] = Rating\n",
    "ODI_Women_batsmen_team[:10]"
   ]
  },
  {
   "cell_type": "code",
   "execution_count": null,
   "id": "26c802e1",
   "metadata": {},
   "outputs": [],
   "source": []
  },
  {
   "cell_type": "markdown",
   "id": "89c47393",
   "metadata": {},
   "source": [
    "iii) Top 10 women’s ODI all-rounder along with the records of their team andrating."
   ]
  },
  {
   "cell_type": "code",
   "execution_count": 63,
   "id": "fa2201a6",
   "metadata": {},
   "outputs": [
    {
     "name": "stdout",
     "output_type": "stream",
     "text": [
      "<Response [200]>\n"
     ]
    }
   ],
   "source": [
    "import pandas as pd\n",
    "import requests\n",
    "from bs4 import BeautifulSoup \n",
    "src = requests.get(\"https://www.icc-cricket.com/rankings/womens/player-rankings/odi/bowling\")\n",
    "print(src)\n",
    "soup = BeautifulSoup(src.content,'lxml')"
   ]
  },
  {
   "cell_type": "code",
   "execution_count": 64,
   "id": "65e00df2",
   "metadata": {},
   "outputs": [
    {
     "data": {
      "text/plain": [
       "['Megan Schutt',\n",
       " 'Marizanne Kapp',\n",
       " 'Shabnim Ismail',\n",
       " 'Jhulan Goswami',\n",
       " 'Sophie Ecclestone',\n",
       " 'Katherine Brunt',\n",
       " 'Ayabonga Khaka',\n",
       " 'Poonam Yadav',\n",
       " 'Ellyse Perry',\n",
       " 'Anya Shrubsole']"
      ]
     },
     "execution_count": 64,
     "metadata": {},
     "output_type": "execute_result"
    }
   ],
   "source": [
    "bowler = soup.find_all('tr', class_ = \"table-body\")\n",
    "player_name = []\n",
    "for i in bowler:\n",
    "    for j in i.find_all('a'):\n",
    "        player_name.append(j.text.replace(\"\\n\",\"\")) \n",
    "player_name[:10]"
   ]
  },
  {
   "cell_type": "code",
   "execution_count": 65,
   "id": "6765e1f8",
   "metadata": {},
   "outputs": [
    {
     "data": {
      "text/plain": [
       "['AUS', 'SA', 'SA', 'IND', 'ENG', 'ENG', 'SA', 'IND', 'AUS', 'ENG']"
      ]
     },
     "execution_count": 65,
     "metadata": {},
     "output_type": "execute_result"
    }
   ],
   "source": [
    "bowler_team = soup.find_all(\"span\", class_=\"table-body__logo-text\")\n",
    "team = []\n",
    "for i in bowler_team:\n",
    "    team.append(i.text.strip())\n",
    "team[:10]"
   ]
  },
  {
   "cell_type": "code",
   "execution_count": 66,
   "id": "ed9c2a65",
   "metadata": {},
   "outputs": [
    {
     "data": {
      "text/plain": [
       "['762', '747', '717', '694', '668', '646', '638', '617', '616', '613']"
      ]
     },
     "execution_count": 66,
     "metadata": {},
     "output_type": "execute_result"
    }
   ],
   "source": [
    "rating = soup.find_all(\"tr\",class_=\"table-body\")\n",
    "Rating = []\n",
    "for i in rating:\n",
    "    tds = i.findAll('td')\n",
    "    Rating.append(tds[3].text.strip())\n",
    "Rating[:10]"
   ]
  },
  {
   "cell_type": "code",
   "execution_count": 67,
   "id": "e64b581d",
   "metadata": {},
   "outputs": [
    {
     "data": {
      "text/html": [
       "<div>\n",
       "<style scoped>\n",
       "    .dataframe tbody tr th:only-of-type {\n",
       "        vertical-align: middle;\n",
       "    }\n",
       "\n",
       "    .dataframe tbody tr th {\n",
       "        vertical-align: top;\n",
       "    }\n",
       "\n",
       "    .dataframe thead th {\n",
       "        text-align: right;\n",
       "    }\n",
       "</style>\n",
       "<table border=\"1\" class=\"dataframe\">\n",
       "  <thead>\n",
       "    <tr style=\"text-align: right;\">\n",
       "      <th></th>\n",
       "      <th>Player_Name</th>\n",
       "      <th>Teams</th>\n",
       "      <th>Ratings</th>\n",
       "    </tr>\n",
       "  </thead>\n",
       "  <tbody>\n",
       "    <tr>\n",
       "      <th>0</th>\n",
       "      <td>Megan Schutt</td>\n",
       "      <td>AUS</td>\n",
       "      <td>762</td>\n",
       "    </tr>\n",
       "    <tr>\n",
       "      <th>1</th>\n",
       "      <td>Marizanne Kapp</td>\n",
       "      <td>SA</td>\n",
       "      <td>747</td>\n",
       "    </tr>\n",
       "    <tr>\n",
       "      <th>2</th>\n",
       "      <td>Shabnim Ismail</td>\n",
       "      <td>SA</td>\n",
       "      <td>717</td>\n",
       "    </tr>\n",
       "    <tr>\n",
       "      <th>3</th>\n",
       "      <td>Jhulan Goswami</td>\n",
       "      <td>IND</td>\n",
       "      <td>694</td>\n",
       "    </tr>\n",
       "    <tr>\n",
       "      <th>4</th>\n",
       "      <td>Sophie Ecclestone</td>\n",
       "      <td>ENG</td>\n",
       "      <td>668</td>\n",
       "    </tr>\n",
       "    <tr>\n",
       "      <th>5</th>\n",
       "      <td>Katherine Brunt</td>\n",
       "      <td>ENG</td>\n",
       "      <td>646</td>\n",
       "    </tr>\n",
       "    <tr>\n",
       "      <th>6</th>\n",
       "      <td>Ayabonga Khaka</td>\n",
       "      <td>SA</td>\n",
       "      <td>638</td>\n",
       "    </tr>\n",
       "    <tr>\n",
       "      <th>7</th>\n",
       "      <td>Poonam Yadav</td>\n",
       "      <td>IND</td>\n",
       "      <td>617</td>\n",
       "    </tr>\n",
       "    <tr>\n",
       "      <th>8</th>\n",
       "      <td>Ellyse Perry</td>\n",
       "      <td>AUS</td>\n",
       "      <td>616</td>\n",
       "    </tr>\n",
       "    <tr>\n",
       "      <th>9</th>\n",
       "      <td>Anya Shrubsole</td>\n",
       "      <td>ENG</td>\n",
       "      <td>613</td>\n",
       "    </tr>\n",
       "  </tbody>\n",
       "</table>\n",
       "</div>"
      ],
      "text/plain": [
       "         Player_Name Teams Ratings\n",
       "0       Megan Schutt   AUS     762\n",
       "1     Marizanne Kapp    SA     747\n",
       "2     Shabnim Ismail    SA     717\n",
       "3     Jhulan Goswami   IND     694\n",
       "4  Sophie Ecclestone   ENG     668\n",
       "5    Katherine Brunt   ENG     646\n",
       "6     Ayabonga Khaka    SA     638\n",
       "7       Poonam Yadav   IND     617\n",
       "8       Ellyse Perry   AUS     616\n",
       "9     Anya Shrubsole   ENG     613"
      ]
     },
     "execution_count": 67,
     "metadata": {},
     "output_type": "execute_result"
    }
   ],
   "source": [
    "import pandas as pd\n",
    "ODI_Women_bowler_team = pd.DataFrame({})\n",
    "ODI_Women_bowler_team['Player_Name'] = player_name\n",
    "ODI_Women_bowler_team['Teams'] = team\n",
    "ODI_Women_bowler_team['Ratings'] = Rating\n",
    "ODI_Women_bowler_team[:10]"
   ]
  },
  {
   "cell_type": "code",
   "execution_count": null,
   "id": "9e30c9ae",
   "metadata": {},
   "outputs": [],
   "source": []
  },
  {
   "cell_type": "markdown",
   "id": "67ed1324",
   "metadata": {},
   "source": [
    "# 7. Write a python program to scrape details of all the mobile phones under Rs. 20,000 listed on Amazon.in. The scraped data should include Product Name, Price, Image URL and Average Rating"
   ]
  },
  {
   "cell_type": "code",
   "execution_count": 1,
   "id": "dc213730",
   "metadata": {},
   "outputs": [
    {
     "name": "stdout",
     "output_type": "stream",
     "text": [
      "<Response [200]>\n"
     ]
    }
   ],
   "source": [
    "import pandas as pd\n",
    "import requests\n",
    "from bs4 import BeautifulSoup \n",
    "src = requests.get(\"https://www.amazon.in/best-mobile-under-20000/s?k=best+mobile+under+20000\")\n",
    "print(src)\n",
    "soup = BeautifulSoup(src.content,'lxml')"
   ]
  },
  {
   "cell_type": "code",
   "execution_count": 2,
   "id": "b8a8afc4",
   "metadata": {},
   "outputs": [
    {
     "data": {
      "text/plain": [
       "['Redmi 9A (Nature Green, 2GB RAM, 32GB Storage) | 2GHz Octa-core Helio G25 Processor | 5000 mAh Battery',\n",
       " 'Redmi 9 (Sky Blue, 4GB RAM, 64GB Storage) | 2.3GHz Mediatek Helio G35 Octa core Processor',\n",
       " 'Samsung Galaxy M31 (Space Black, 6GB RAM, 128GB Storage)',\n",
       " 'Redmi 9 Power (Mighty Black, 6GB RAM, 128GB Storage) - 6000mAh Battery |FHD+ Screen| 48MP Quad Camera | Snapdragon 662 Processor | Alexa Hands-Free Capable',\n",
       " 'Redmi Note 10 (Shadow Black, 4GB RAM, 64GB Storage) - Amoled Dot Display | 48MP Sony Sensor IMX582 | Snapdragon 678 Processor',\n",
       " 'Redmi 9 Power (Mighty Black 4GB RAM 64GB Storage) - 6000mAh Battery |FHD+ Screen | 48MP Quad Camera | Alexa Hands-Free Capable',\n",
       " 'realme C11 (2021) (Cool Grey, 2GB RAM, 32GB Storage) with No Cost EMI/Additional Exchange Offers',\n",
       " 'Samsung Galaxy M31 (Ocean Blue, 6GB RAM, 128GB Storage)',\n",
       " 'Redmi 9A (Nature Green, 3GB Ram, 32GB Storage) | 2GHz Octa-core Helio G25 Processor',\n",
       " 'Redmi Note 10 Pro Max (Dark Night, 6GB RAM, 128GB Storage) -108MP Quad Camera | 120Hz Super Amoled Display',\n",
       " 'Redmi 9A (Midnight Black, 2GB RAM, 32GB Storage) | 2GHz Octa-Core Helio G25 Processor',\n",
       " 'Samsung Galaxy M02s (Black,4GB RAM, 64GB Storage) | 5000 mAh | Triple Camera',\n",
       " 'Oppo A31 (Fantasy White, 6GB RAM, 128GB Storage) with No Cost EMI/Additional Exchange Offers',\n",
       " 'Redmi Note 10 Pro (Glacial Blue, 6GB RAM, 128GB Storage) -120hz Super Amoled Display|64MP with 5mp Super Tele- Macro',\n",
       " 'Samsung Galaxy M31 (Ocean Blue, 8GB RAM, 128GB Storage) 6 Months Free Screen Replacement for Prime',\n",
       " 'Redmi Note 9 (Pebble Grey, 4GB RAM 64GB Storage) - 48MP Quad Camera & Full HD+ Display']"
      ]
     },
     "execution_count": 2,
     "metadata": {},
     "output_type": "execute_result"
    }
   ],
   "source": [
    "name = soup.find_all('span', class_ = \"a-size-medium a-color-base a-text-normal\")\n",
    "product_name = []\n",
    "for i in name:\n",
    "    product_name.append(i.text.replace(\"\\n\",\"\"))\n",
    "product_name"
   ]
  },
  {
   "cell_type": "code",
   "execution_count": 3,
   "id": "8b0726e6",
   "metadata": {},
   "outputs": [
    {
     "data": {
      "text/plain": [
       "['6,999',\n",
       " '8,999',\n",
       " '14,999',\n",
       " '13,499',\n",
       " '10,999',\n",
       " '6,999',\n",
       " '14,999',\n",
       " '7,999',\n",
       " '19,999',\n",
       " '6,999',\n",
       " '10,499',\n",
       " '12,490',\n",
       " '17,999',\n",
       " '16,999',\n",
       " '11,999']"
      ]
     },
     "execution_count": 3,
     "metadata": {},
     "output_type": "execute_result"
    }
   ],
   "source": [
    "price = soup.find_all('span',class_='a-price-whole')\n",
    "mobile_price = []\n",
    "for i in price:\n",
    "    mobile_price.append(i.text)\n",
    "mobile_price"
   ]
  },
  {
   "cell_type": "code",
   "execution_count": 4,
   "id": "51b182ae",
   "metadata": {},
   "outputs": [
    {
     "data": {
      "text/plain": [
       "['4.2 out of 5 stars',\n",
       " '4.2 out of 5 stars',\n",
       " '4.3 out of 5 stars',\n",
       " '4.2 out of 5 stars',\n",
       " '4.1 out of 5 stars',\n",
       " '4.2 out of 5 stars',\n",
       " '4.1 out of 5 stars',\n",
       " '4.3 out of 5 stars',\n",
       " '4.2 out of 5 stars',\n",
       " '4.1 out of 5 stars',\n",
       " '4.2 out of 5 stars',\n",
       " '4.1 out of 5 stars',\n",
       " '4.2 out of 5 stars',\n",
       " '4.2 out of 5 stars',\n",
       " '4.3 out of 5 stars',\n",
       " '4.3 out of 5 stars']"
      ]
     },
     "execution_count": 4,
     "metadata": {},
     "output_type": "execute_result"
    }
   ],
   "source": [
    "rate=soup.find_all('a',class_='a-popover-trigger a-declarative') \n",
    "mobile_rate=[]\n",
    "for i in rate:\n",
    "    mobile_rate.append(i.text)\n",
    "mobile_rate"
   ]
  },
  {
   "cell_type": "code",
   "execution_count": 5,
   "id": "fd8b3270",
   "metadata": {},
   "outputs": [
    {
     "data": {
      "text/plain": [
       "[<img alt=\"Amazon App\" src=\"https://images-eu.ssl-images-amazon.com/images/G/31/IN-hq/2021/img/Mobile_Traffic_/XCM_Manual_1321458_1651511_IN_3781247_400x39_en_IN._CB655944656_.jpg\"/>,\n",
       " <img alt=\"Redmi 9A (Nature Green, 2GB RAM, 32GB Storage) | 2GHz Octa-core Helio G25 Processor | 5000 mAh Battery\" class=\"s-image\" data-image-index=\"1\" data-image-latency=\"s-product-image\" data-image-load=\"\" data-image-source-density=\"1\" src=\"https://m.media-amazon.com/images/I/71sxlhYhKWL._AC_UY218_.jpg\" srcset=\"https://m.media-amazon.com/images/I/71sxlhYhKWL._AC_UY218_.jpg 1x, https://m.media-amazon.com/images/I/71sxlhYhKWL._AC_UY327_QL65_.jpg 1.5x, https://m.media-amazon.com/images/I/71sxlhYhKWL._AC_UY436_QL65_.jpg 2x, https://m.media-amazon.com/images/I/71sxlhYhKWL._AC_UY545_QL65_.jpg 2.5x, https://m.media-amazon.com/images/I/71sxlhYhKWL._AC_UY654_QL65_.jpg 3x\"/>,\n",
       " <img alt=\"Redmi 9 (Sky Blue, 4GB RAM, 64GB Storage) | 2.3GHz Mediatek Helio G35 Octa core Processor\" class=\"s-image\" data-image-index=\"2\" data-image-latency=\"s-product-image\" data-image-load=\"\" data-image-source-density=\"1\" src=\"https://m.media-amazon.com/images/I/71A9Vo1BatL._AC_UY218_.jpg\" srcset=\"https://m.media-amazon.com/images/I/71A9Vo1BatL._AC_UY218_.jpg 1x, https://m.media-amazon.com/images/I/71A9Vo1BatL._AC_UY327_QL65_.jpg 1.5x, https://m.media-amazon.com/images/I/71A9Vo1BatL._AC_UY436_QL65_.jpg 2x, https://m.media-amazon.com/images/I/71A9Vo1BatL._AC_UY545_QL65_.jpg 2.5x, https://m.media-amazon.com/images/I/71A9Vo1BatL._AC_UY654_QL65_.jpg 3x\"/>,\n",
       " <img alt=\"Samsung Galaxy M31 (Space Black, 6GB RAM, 128GB Storage)\" class=\"s-image\" data-image-index=\"3\" data-image-latency=\"s-product-image\" data-image-load=\"\" data-image-source-density=\"1\" src=\"https://m.media-amazon.com/images/I/71OxJeyywSL._AC_UY218_.jpg\" srcset=\"https://m.media-amazon.com/images/I/71OxJeyywSL._AC_UY218_.jpg 1x, https://m.media-amazon.com/images/I/71OxJeyywSL._AC_UY327_QL65_.jpg 1.5x, https://m.media-amazon.com/images/I/71OxJeyywSL._AC_UY436_QL65_.jpg 2x, https://m.media-amazon.com/images/I/71OxJeyywSL._AC_UY545_QL65_.jpg 2.5x, https://m.media-amazon.com/images/I/71OxJeyywSL._AC_UY654_QL65_.jpg 3x\"/>,\n",
       " <img alt=\"Redmi 9 Power (Mighty Black, 6GB RAM, 128GB Storage) - 6000mAh Battery |FHD+ Screen| 48MP Quad Camera | Snapdragon 662 Pro...\" class=\"s-image\" data-image-index=\"4\" data-image-latency=\"s-product-image\" data-image-load=\"\" data-image-source-density=\"1\" src=\"https://m.media-amazon.com/images/I/61LHaUOhehL._AC_UY218_.jpg\" srcset=\"https://m.media-amazon.com/images/I/61LHaUOhehL._AC_UY218_.jpg 1x, https://m.media-amazon.com/images/I/61LHaUOhehL._AC_UY327_QL65_.jpg 1.5x, https://m.media-amazon.com/images/I/61LHaUOhehL._AC_UY436_QL65_.jpg 2x, https://m.media-amazon.com/images/I/61LHaUOhehL._AC_UY545_QL65_.jpg 2.5x, https://m.media-amazon.com/images/I/61LHaUOhehL._AC_UY654_QL65_.jpg 3x\"/>,\n",
       " <img alt=\"Redmi Note 10 (Shadow Black, 4GB RAM, 64GB Storage) - Amoled Dot Display | 48MP Sony Sensor IMX582 | Snapdragon 678 Processor\" class=\"s-image\" data-image-index=\"5\" data-image-latency=\"s-product-image\" data-image-load=\"\" data-image-source-density=\"1\" loading=\"lazy\" src=\"https://m.media-amazon.com/images/I/81vixbGM2EL._AC_UY218_.jpg\" srcset=\"https://m.media-amazon.com/images/I/81vixbGM2EL._AC_UY218_.jpg 1x, https://m.media-amazon.com/images/I/81vixbGM2EL._AC_UY327_QL65_.jpg 1.5x, https://m.media-amazon.com/images/I/81vixbGM2EL._AC_UY436_QL65_.jpg 2x, https://m.media-amazon.com/images/I/81vixbGM2EL._AC_UY545_QL65_.jpg 2.5x, https://m.media-amazon.com/images/I/81vixbGM2EL._AC_UY654_QL65_.jpg 3x\"/>,\n",
       " <img alt=\"Redmi 9 Power (Mighty Black 4GB RAM 64GB Storage) - 6000mAh Battery |FHD+ Screen | 48MP Quad Camera | Alexa Hands-Free Cap...\" class=\"s-image\" data-image-index=\"6\" data-image-latency=\"s-product-image\" data-image-load=\"\" data-image-source-density=\"1\" loading=\"lazy\" src=\"https://m.media-amazon.com/images/I/71hEzQGO5qL._AC_UY218_.jpg\" srcset=\"https://m.media-amazon.com/images/I/71hEzQGO5qL._AC_UY218_.jpg 1x, https://m.media-amazon.com/images/I/71hEzQGO5qL._AC_UY327_QL65_.jpg 1.5x, https://m.media-amazon.com/images/I/71hEzQGO5qL._AC_UY436_QL65_.jpg 2x, https://m.media-amazon.com/images/I/71hEzQGO5qL._AC_UY545_QL65_.jpg 2.5x, https://m.media-amazon.com/images/I/71hEzQGO5qL._AC_UY654_QL65_.jpg 3x\"/>,\n",
       " <img alt=\"realme C11 (2021) (Cool Grey, 2GB RAM, 32GB Storage) with No Cost EMI/Additional Exchange Offers\" class=\"s-image\" data-image-index=\"7\" data-image-latency=\"s-product-image\" data-image-load=\"\" data-image-source-density=\"1\" loading=\"lazy\" src=\"https://m.media-amazon.com/images/I/618UBhFmaQS._AC_UY218_.jpg\" srcset=\"https://m.media-amazon.com/images/I/618UBhFmaQS._AC_UY218_.jpg 1x, https://m.media-amazon.com/images/I/618UBhFmaQS._AC_UY327_QL65_.jpg 1.5x, https://m.media-amazon.com/images/I/618UBhFmaQS._AC_UY436_QL65_.jpg 2x, https://m.media-amazon.com/images/I/618UBhFmaQS._AC_UY545_QL65_.jpg 2.5x, https://m.media-amazon.com/images/I/618UBhFmaQS._AC_UY654_QL65_.jpg 3x\"/>,\n",
       " <img alt=\"Samsung Galaxy M31 (Ocean Blue, 6GB RAM, 128GB Storage)\" class=\"s-image\" data-image-index=\"8\" data-image-latency=\"s-product-image\" data-image-load=\"\" data-image-source-density=\"1\" loading=\"lazy\" src=\"https://m.media-amazon.com/images/I/71-Su4Wr0HL._AC_UY218_.jpg\" srcset=\"https://m.media-amazon.com/images/I/71-Su4Wr0HL._AC_UY218_.jpg 1x, https://m.media-amazon.com/images/I/71-Su4Wr0HL._AC_UY327_QL65_.jpg 1.5x, https://m.media-amazon.com/images/I/71-Su4Wr0HL._AC_UY436_QL65_.jpg 2x, https://m.media-amazon.com/images/I/71-Su4Wr0HL._AC_UY545_QL65_.jpg 2.5x, https://m.media-amazon.com/images/I/71-Su4Wr0HL._AC_UY654_QL65_.jpg 3x\"/>,\n",
       " <img alt=\"Redmi 9A (Nature Green, 3GB Ram, 32GB Storage) | 2GHz Octa-core Helio G25 Processor\" class=\"s-image\" data-image-index=\"9\" data-image-latency=\"s-product-image\" data-image-load=\"\" data-image-source-density=\"1\" loading=\"lazy\" src=\"https://m.media-amazon.com/images/I/71sxlhYhKWL._AC_UY218_.jpg\" srcset=\"https://m.media-amazon.com/images/I/71sxlhYhKWL._AC_UY218_.jpg 1x, https://m.media-amazon.com/images/I/71sxlhYhKWL._AC_UY327_QL65_.jpg 1.5x, https://m.media-amazon.com/images/I/71sxlhYhKWL._AC_UY436_QL65_.jpg 2x, https://m.media-amazon.com/images/I/71sxlhYhKWL._AC_UY545_QL65_.jpg 2.5x, https://m.media-amazon.com/images/I/71sxlhYhKWL._AC_UY654_QL65_.jpg 3x\"/>,\n",
       " <img alt=\"Redmi Note 10 Pro Max (Dark Night, 6GB RAM, 128GB Storage) -108MP Quad Camera | 120Hz Super Amoled Display\" class=\"s-image\" data-image-index=\"10\" data-image-latency=\"s-product-image\" data-image-load=\"\" data-image-source-density=\"1\" loading=\"lazy\" src=\"https://m.media-amazon.com/images/I/81Vpy0XrvFL._AC_UY218_.jpg\" srcset=\"https://m.media-amazon.com/images/I/81Vpy0XrvFL._AC_UY218_.jpg 1x, https://m.media-amazon.com/images/I/81Vpy0XrvFL._AC_UY327_QL65_.jpg 1.5x, https://m.media-amazon.com/images/I/81Vpy0XrvFL._AC_UY436_QL65_.jpg 2x, https://m.media-amazon.com/images/I/81Vpy0XrvFL._AC_UY545_QL65_.jpg 2.5x, https://m.media-amazon.com/images/I/81Vpy0XrvFL._AC_UY654_QL65_.jpg 3x\"/>,\n",
       " <img alt=\"Redmi 9A (Midnight Black, 2GB RAM, 32GB Storage) | 2GHz Octa-Core Helio G25 Processor\" class=\"s-image\" data-image-index=\"11\" data-image-latency=\"s-product-image\" data-image-load=\"\" data-image-source-density=\"1\" loading=\"lazy\" src=\"https://m.media-amazon.com/images/I/71sxlhYhKWL._AC_UY218_.jpg\" srcset=\"https://m.media-amazon.com/images/I/71sxlhYhKWL._AC_UY218_.jpg 1x, https://m.media-amazon.com/images/I/71sxlhYhKWL._AC_UY327_QL65_.jpg 1.5x, https://m.media-amazon.com/images/I/71sxlhYhKWL._AC_UY436_QL65_.jpg 2x, https://m.media-amazon.com/images/I/71sxlhYhKWL._AC_UY545_QL65_.jpg 2.5x, https://m.media-amazon.com/images/I/71sxlhYhKWL._AC_UY654_QL65_.jpg 3x\"/>,\n",
       " <img alt=\"Samsung Galaxy M02s (Black,4GB RAM, 64GB Storage) | 5000 mAh | Triple Camera\" class=\"s-image\" data-image-index=\"12\" data-image-latency=\"s-product-image\" data-image-load=\"\" data-image-source-density=\"1\" loading=\"lazy\" src=\"https://m.media-amazon.com/images/I/71IkA3T7hIL._AC_UY218_.jpg\" srcset=\"https://m.media-amazon.com/images/I/71IkA3T7hIL._AC_UY218_.jpg 1x, https://m.media-amazon.com/images/I/71IkA3T7hIL._AC_UY327_QL65_.jpg 1.5x, https://m.media-amazon.com/images/I/71IkA3T7hIL._AC_UY436_QL65_.jpg 2x, https://m.media-amazon.com/images/I/71IkA3T7hIL._AC_UY545_QL65_.jpg 2.5x, https://m.media-amazon.com/images/I/71IkA3T7hIL._AC_UY654_QL65_.jpg 3x\"/>,\n",
       " <img alt=\"Oppo A31 (Fantasy White, 6GB RAM, 128GB Storage) with No Cost EMI/Additional Exchange Offers\" class=\"s-image\" data-image-index=\"13\" data-image-latency=\"s-product-image\" data-image-load=\"\" data-image-source-density=\"1\" loading=\"lazy\" src=\"https://m.media-amazon.com/images/I/61CnyJ-IbML._AC_UY218_.jpg\" srcset=\"https://m.media-amazon.com/images/I/61CnyJ-IbML._AC_UY218_.jpg 1x, https://m.media-amazon.com/images/I/61CnyJ-IbML._AC_UY327_QL65_.jpg 1.5x, https://m.media-amazon.com/images/I/61CnyJ-IbML._AC_UY436_QL65_.jpg 2x, https://m.media-amazon.com/images/I/61CnyJ-IbML._AC_UY545_QL65_.jpg 2.5x, https://m.media-amazon.com/images/I/61CnyJ-IbML._AC_UY654_QL65_.jpg 3x\"/>,\n",
       " <img alt=\"Redmi Note 10 Pro (Glacial Blue, 6GB RAM, 128GB Storage) -120hz Super Amoled Display|64MP with 5mp Super Tele- Macro\" class=\"s-image\" data-image-index=\"14\" data-image-latency=\"s-product-image\" data-image-load=\"\" data-image-source-density=\"1\" loading=\"lazy\" src=\"https://m.media-amazon.com/images/I/81nndQAg2nL._AC_UY218_.jpg\" srcset=\"https://m.media-amazon.com/images/I/81nndQAg2nL._AC_UY218_.jpg 1x, https://m.media-amazon.com/images/I/81nndQAg2nL._AC_UY327_QL65_.jpg 1.5x, https://m.media-amazon.com/images/I/81nndQAg2nL._AC_UY436_QL65_.jpg 2x, https://m.media-amazon.com/images/I/81nndQAg2nL._AC_UY545_QL65_.jpg 2.5x, https://m.media-amazon.com/images/I/81nndQAg2nL._AC_UY654_QL65_.jpg 3x\"/>,\n",
       " <img alt=\"Samsung Galaxy M31 (Ocean Blue, 8GB RAM, 128GB Storage) 6 Months Free Screen Replacement for Prime\" class=\"s-image\" data-image-index=\"15\" data-image-latency=\"s-product-image\" data-image-load=\"\" data-image-source-density=\"1\" loading=\"lazy\" src=\"https://m.media-amazon.com/images/I/71-Su4Wr0HL._AC_UY218_.jpg\" srcset=\"https://m.media-amazon.com/images/I/71-Su4Wr0HL._AC_UY218_.jpg 1x, https://m.media-amazon.com/images/I/71-Su4Wr0HL._AC_UY327_QL65_.jpg 1.5x, https://m.media-amazon.com/images/I/71-Su4Wr0HL._AC_UY436_QL65_.jpg 2x, https://m.media-amazon.com/images/I/71-Su4Wr0HL._AC_UY545_QL65_.jpg 2.5x, https://m.media-amazon.com/images/I/71-Su4Wr0HL._AC_UY654_QL65_.jpg 3x\"/>,\n",
       " <img alt=\"Redmi Note 9 (Pebble Grey, 4GB RAM 64GB Storage) - 48MP Quad Camera &amp; Full HD+ Display\" class=\"s-image\" data-image-index=\"16\" data-image-latency=\"s-product-image\" data-image-load=\"\" data-image-source-density=\"1\" loading=\"lazy\" src=\"https://m.media-amazon.com/images/I/71X5I1cVfbL._AC_UY218_.jpg\" srcset=\"https://m.media-amazon.com/images/I/71X5I1cVfbL._AC_UY218_.jpg 1x, https://m.media-amazon.com/images/I/71X5I1cVfbL._AC_UY327_QL65_.jpg 1.5x, https://m.media-amazon.com/images/I/71X5I1cVfbL._AC_UY436_QL65_.jpg 2x, https://m.media-amazon.com/images/I/71X5I1cVfbL._AC_UY545_QL65_.jpg 2.5x, https://m.media-amazon.com/images/I/71X5I1cVfbL._AC_UY654_QL65_.jpg 3x\"/>]"
      ]
     },
     "execution_count": 5,
     "metadata": {},
     "output_type": "execute_result"
    }
   ],
   "source": [
    "import re\n",
    "url = soup.find_all('img',{'src':re.compile('.jpg')})\n",
    "img_url = []\n",
    "for i in url:\n",
    "    img_url.append(i)\n",
    "img_url"
   ]
  },
  {
   "cell_type": "code",
   "execution_count": 6,
   "id": "36f0a8e3",
   "metadata": {},
   "outputs": [
    {
     "data": {
      "text/html": [
       "<div>\n",
       "<style scoped>\n",
       "    .dataframe tbody tr th:only-of-type {\n",
       "        vertical-align: middle;\n",
       "    }\n",
       "\n",
       "    .dataframe tbody tr th {\n",
       "        vertical-align: top;\n",
       "    }\n",
       "\n",
       "    .dataframe thead th {\n",
       "        text-align: right;\n",
       "    }\n",
       "</style>\n",
       "<table border=\"1\" class=\"dataframe\">\n",
       "  <thead>\n",
       "    <tr style=\"text-align: right;\">\n",
       "      <th></th>\n",
       "      <th>Mobile_name</th>\n",
       "      <th>Mobile_price</th>\n",
       "      <th>Rating</th>\n",
       "      <th>Img_URL</th>\n",
       "    </tr>\n",
       "  </thead>\n",
       "  <tbody>\n",
       "    <tr>\n",
       "      <th>0</th>\n",
       "      <td>Redmi 9A (Nature Green, 2GB RAM, 32GB Storage)...</td>\n",
       "      <td>6,999</td>\n",
       "      <td>4.2 out of 5 stars</td>\n",
       "      <td>[]</td>\n",
       "    </tr>\n",
       "    <tr>\n",
       "      <th>1</th>\n",
       "      <td>Redmi 9 (Sky Blue, 4GB RAM, 64GB Storage) | 2....</td>\n",
       "      <td>8,999</td>\n",
       "      <td>4.2 out of 5 stars</td>\n",
       "      <td>[]</td>\n",
       "    </tr>\n",
       "    <tr>\n",
       "      <th>2</th>\n",
       "      <td>Samsung Galaxy M31 (Space Black, 6GB RAM, 128G...</td>\n",
       "      <td>14,999</td>\n",
       "      <td>4.3 out of 5 stars</td>\n",
       "      <td>[]</td>\n",
       "    </tr>\n",
       "    <tr>\n",
       "      <th>3</th>\n",
       "      <td>Redmi 9 Power (Mighty Black, 6GB RAM, 128GB St...</td>\n",
       "      <td>13,499</td>\n",
       "      <td>4.2 out of 5 stars</td>\n",
       "      <td>[]</td>\n",
       "    </tr>\n",
       "    <tr>\n",
       "      <th>4</th>\n",
       "      <td>Redmi Note 10 (Shadow Black, 4GB RAM, 64GB Sto...</td>\n",
       "      <td>10,999</td>\n",
       "      <td>4.1 out of 5 stars</td>\n",
       "      <td>[]</td>\n",
       "    </tr>\n",
       "    <tr>\n",
       "      <th>5</th>\n",
       "      <td>Redmi 9 Power (Mighty Black 4GB RAM 64GB Stora...</td>\n",
       "      <td>6,999</td>\n",
       "      <td>4.2 out of 5 stars</td>\n",
       "      <td>[]</td>\n",
       "    </tr>\n",
       "    <tr>\n",
       "      <th>6</th>\n",
       "      <td>realme C11 (2021) (Cool Grey, 2GB RAM, 32GB St...</td>\n",
       "      <td>14,999</td>\n",
       "      <td>4.1 out of 5 stars</td>\n",
       "      <td>[]</td>\n",
       "    </tr>\n",
       "    <tr>\n",
       "      <th>7</th>\n",
       "      <td>Samsung Galaxy M31 (Ocean Blue, 6GB RAM, 128GB...</td>\n",
       "      <td>7,999</td>\n",
       "      <td>4.3 out of 5 stars</td>\n",
       "      <td>[]</td>\n",
       "    </tr>\n",
       "    <tr>\n",
       "      <th>8</th>\n",
       "      <td>Redmi 9A (Nature Green, 3GB Ram, 32GB Storage)...</td>\n",
       "      <td>19,999</td>\n",
       "      <td>4.2 out of 5 stars</td>\n",
       "      <td>[]</td>\n",
       "    </tr>\n",
       "    <tr>\n",
       "      <th>9</th>\n",
       "      <td>Redmi Note 10 Pro Max (Dark Night, 6GB RAM, 12...</td>\n",
       "      <td>6,999</td>\n",
       "      <td>4.1 out of 5 stars</td>\n",
       "      <td>[]</td>\n",
       "    </tr>\n",
       "    <tr>\n",
       "      <th>10</th>\n",
       "      <td>Redmi 9A (Midnight Black, 2GB RAM, 32GB Storag...</td>\n",
       "      <td>10,499</td>\n",
       "      <td>4.2 out of 5 stars</td>\n",
       "      <td>[]</td>\n",
       "    </tr>\n",
       "    <tr>\n",
       "      <th>11</th>\n",
       "      <td>Samsung Galaxy M02s (Black,4GB RAM, 64GB Stora...</td>\n",
       "      <td>12,490</td>\n",
       "      <td>4.1 out of 5 stars</td>\n",
       "      <td>[]</td>\n",
       "    </tr>\n",
       "    <tr>\n",
       "      <th>12</th>\n",
       "      <td>Oppo A31 (Fantasy White, 6GB RAM, 128GB Storag...</td>\n",
       "      <td>17,999</td>\n",
       "      <td>4.2 out of 5 stars</td>\n",
       "      <td>[]</td>\n",
       "    </tr>\n",
       "    <tr>\n",
       "      <th>13</th>\n",
       "      <td>Redmi Note 10 Pro (Glacial Blue, 6GB RAM, 128G...</td>\n",
       "      <td>16,999</td>\n",
       "      <td>4.2 out of 5 stars</td>\n",
       "      <td>[]</td>\n",
       "    </tr>\n",
       "    <tr>\n",
       "      <th>14</th>\n",
       "      <td>Samsung Galaxy M31 (Ocean Blue, 8GB RAM, 128GB...</td>\n",
       "      <td>11,999</td>\n",
       "      <td>4.3 out of 5 stars</td>\n",
       "      <td>[]</td>\n",
       "    </tr>\n",
       "  </tbody>\n",
       "</table>\n",
       "</div>"
      ],
      "text/plain": [
       "                                          Mobile_name Mobile_price  \\\n",
       "0   Redmi 9A (Nature Green, 2GB RAM, 32GB Storage)...        6,999   \n",
       "1   Redmi 9 (Sky Blue, 4GB RAM, 64GB Storage) | 2....        8,999   \n",
       "2   Samsung Galaxy M31 (Space Black, 6GB RAM, 128G...       14,999   \n",
       "3   Redmi 9 Power (Mighty Black, 6GB RAM, 128GB St...       13,499   \n",
       "4   Redmi Note 10 (Shadow Black, 4GB RAM, 64GB Sto...       10,999   \n",
       "5   Redmi 9 Power (Mighty Black 4GB RAM 64GB Stora...        6,999   \n",
       "6   realme C11 (2021) (Cool Grey, 2GB RAM, 32GB St...       14,999   \n",
       "7   Samsung Galaxy M31 (Ocean Blue, 6GB RAM, 128GB...        7,999   \n",
       "8   Redmi 9A (Nature Green, 3GB Ram, 32GB Storage)...       19,999   \n",
       "9   Redmi Note 10 Pro Max (Dark Night, 6GB RAM, 12...        6,999   \n",
       "10  Redmi 9A (Midnight Black, 2GB RAM, 32GB Storag...       10,499   \n",
       "11  Samsung Galaxy M02s (Black,4GB RAM, 64GB Stora...       12,490   \n",
       "12  Oppo A31 (Fantasy White, 6GB RAM, 128GB Storag...       17,999   \n",
       "13  Redmi Note 10 Pro (Glacial Blue, 6GB RAM, 128G...       16,999   \n",
       "14  Samsung Galaxy M31 (Ocean Blue, 8GB RAM, 128GB...       11,999   \n",
       "\n",
       "                Rating Img_URL  \n",
       "0   4.2 out of 5 stars      []  \n",
       "1   4.2 out of 5 stars      []  \n",
       "2   4.3 out of 5 stars      []  \n",
       "3   4.2 out of 5 stars      []  \n",
       "4   4.1 out of 5 stars      []  \n",
       "5   4.2 out of 5 stars      []  \n",
       "6   4.1 out of 5 stars      []  \n",
       "7   4.3 out of 5 stars      []  \n",
       "8   4.2 out of 5 stars      []  \n",
       "9   4.1 out of 5 stars      []  \n",
       "10  4.2 out of 5 stars      []  \n",
       "11  4.1 out of 5 stars      []  \n",
       "12  4.2 out of 5 stars      []  \n",
       "13  4.2 out of 5 stars      []  \n",
       "14  4.3 out of 5 stars      []  "
      ]
     },
     "execution_count": 6,
     "metadata": {},
     "output_type": "execute_result"
    }
   ],
   "source": [
    "import pandas as pd\n",
    "Mobile_under_20K = pd.DataFrame({})\n",
    "Mobile_under_20K[\"Mobile_name\"] = product_name[:15]\n",
    "Mobile_under_20K[\"Mobile_price\"] = mobile_price[:15]\n",
    "Mobile_under_20K[\"Rating\"] = mobile_rate[:15]\n",
    "Mobile_under_20K[\"Img_URL\"] = img_url[:15]\n",
    "Mobile_under_20K"
   ]
  },
  {
   "cell_type": "code",
   "execution_count": null,
   "id": "4a379123",
   "metadata": {},
   "outputs": [],
   "source": []
  },
  {
   "cell_type": "markdown",
   "id": "36731e43",
   "metadata": {},
   "source": [
    "# 8. Write a python program to extract information about the local weather from the National Weather Service website of USA, https://www.weather.gov/ for the city, San Francisco. You need to extract data about 7 day extended forecast display for the city. The data should include period, short description, temperature and description."
   ]
  },
  {
   "cell_type": "code",
   "execution_count": 7,
   "id": "9268a9f3",
   "metadata": {},
   "outputs": [
    {
     "name": "stdout",
     "output_type": "stream",
     "text": [
      "<Response [200]>\n"
     ]
    }
   ],
   "source": [
    "import pandas as pd\n",
    "import requests\n",
    "from bs4 import BeautifulSoup \n",
    "src = requests.get(\"https://forecast.weather.gov/MapClick.php?lat=37.7771&lon=-122.4196#.YF4e9j_hVPY\")\n",
    "print(src)\n",
    "soup = BeautifulSoup(src.content,'lxml')"
   ]
  },
  {
   "cell_type": "code",
   "execution_count": 8,
   "id": "b5ef2bf9",
   "metadata": {},
   "outputs": [],
   "source": [
    "# making empty lists\n",
    "Period=[]\n",
    "short_descriptions=[]\n",
    "temps=[]\n",
    "descriptions=[]"
   ]
  },
  {
   "cell_type": "code",
   "execution_count": 9,
   "id": "74038bf2",
   "metadata": {},
   "outputs": [
    {
     "data": {
      "text/plain": [
       "['Overnight',\n",
       " 'Friday',\n",
       " 'Friday Night',\n",
       " 'Saturday',\n",
       " 'Saturday Night',\n",
       " 'Sunday',\n",
       " 'Sunday Night',\n",
       " 'Monday',\n",
       " 'Monday Night',\n",
       " 'Tuesday',\n",
       " 'Tuesday Night',\n",
       " 'Wednesday',\n",
       " 'Wednesday Night',\n",
       " 'Thursday']"
      ]
     },
     "execution_count": 9,
     "metadata": {},
     "output_type": "execute_result"
    }
   ],
   "source": [
    "period=soup.find_all('div',class_='col-sm-2 forecast-label')\n",
    "for i in period:\n",
    "    Period.append(i.text)\n",
    "    \n",
    "Period"
   ]
  },
  {
   "cell_type": "code",
   "execution_count": 10,
   "id": "92db3e76",
   "metadata": {},
   "outputs": [
    {
     "data": {
      "text/plain": [
       "['Haze',\n",
       " 'Partly Sunnythen Sunnyand Breezy',\n",
       " 'IncreasingClouds',\n",
       " 'Partly Sunnythen MostlySunny andBreezy',\n",
       " 'Partly Cloudyand Breezythen MostlyCloudy',\n",
       " 'Mostly Sunny',\n",
       " 'Partly Cloudy',\n",
       " 'Mostly Sunny',\n",
       " 'Partly Cloudy']"
      ]
     },
     "execution_count": 10,
     "metadata": {},
     "output_type": "execute_result"
    }
   ],
   "source": [
    "#extracting short descriptions\n",
    "short_description=soup.find_all('p',class_='short-desc')\n",
    "for i in short_description:\n",
    "    short_descriptions.append(i.text)\n",
    "    \n",
    "short_descriptions"
   ]
  },
  {
   "cell_type": "code",
   "execution_count": 11,
   "id": "95ca6989",
   "metadata": {},
   "outputs": [
    {
     "data": {
      "text/plain": [
       "['Low: 56 °F',\n",
       " 'High: 69 °F',\n",
       " 'Low: 57 °F',\n",
       " 'High: 65 °F',\n",
       " 'Low: 55 °F',\n",
       " 'High: 65 °F',\n",
       " 'Low: 55 °F',\n",
       " 'High: 66 °F',\n",
       " 'Low: 55 °F']"
      ]
     },
     "execution_count": 11,
     "metadata": {},
     "output_type": "execute_result"
    }
   ],
   "source": [
    "#extracting temperature\n",
    "temp=soup.find_all('p',class_='temp')\n",
    "for i in temp:\n",
    "    temps.append(i.text)\n",
    "    \n",
    "temps"
   ]
  },
  {
   "cell_type": "code",
   "execution_count": 12,
   "id": "ec1cc1b1",
   "metadata": {},
   "outputs": [
    {
     "data": {
      "text/plain": [
       "['Widespread haze. Mostly cloudy, with a low around 56. West southwest wind 11 to 13 mph. ',\n",
       " 'Mostly cloudy through mid morning, then gradual clearing, with a high near 69. Breezy, with a west southwest wind 6 to 11 mph increasing to 19 to 24 mph in the afternoon. Winds could gust as high as 31 mph. ',\n",
       " 'Increasing clouds, with a low around 57. West southwest wind 14 to 20 mph, with gusts as high as 25 mph. ',\n",
       " 'Cloudy through mid morning, then gradual clearing, with a high near 65. Breezy, with a southwest wind 14 to 24 mph, with gusts as high as 31 mph. ',\n",
       " 'Partly cloudy, with a low around 55. Breezy, with a west southwest wind 17 to 22 mph decreasing to 10 to 15 mph after midnight. Winds could gust as high as 29 mph. ',\n",
       " 'Mostly sunny, with a high near 65.',\n",
       " 'Partly cloudy, with a low around 55.',\n",
       " 'Mostly sunny, with a high near 66.',\n",
       " 'Partly cloudy, with a low around 55.',\n",
       " 'Mostly sunny, with a high near 67.',\n",
       " 'Partly cloudy, with a low around 54.',\n",
       " 'Sunny, with a high near 69.',\n",
       " 'Partly cloudy, with a low around 55.',\n",
       " 'Sunny, with a high near 70.']"
      ]
     },
     "execution_count": 12,
     "metadata": {},
     "output_type": "execute_result"
    }
   ],
   "source": [
    "#extracting full description\n",
    "description=soup.find_all('div',class_='col-sm-10 forecast-text')\n",
    "for i in description:\n",
    "    descriptions.append(i.text)\n",
    "    \n",
    "descriptions"
   ]
  },
  {
   "cell_type": "code",
   "execution_count": 13,
   "id": "f1371c4a",
   "metadata": {},
   "outputs": [
    {
     "data": {
      "text/html": [
       "<div>\n",
       "<style scoped>\n",
       "    .dataframe tbody tr th:only-of-type {\n",
       "        vertical-align: middle;\n",
       "    }\n",
       "\n",
       "    .dataframe tbody tr th {\n",
       "        vertical-align: top;\n",
       "    }\n",
       "\n",
       "    .dataframe thead th {\n",
       "        text-align: right;\n",
       "    }\n",
       "</style>\n",
       "<table border=\"1\" class=\"dataframe\">\n",
       "  <thead>\n",
       "    <tr style=\"text-align: right;\">\n",
       "      <th></th>\n",
       "      <th>Periods</th>\n",
       "      <th>Short_Descriptions</th>\n",
       "      <th>Temperature</th>\n",
       "      <th>Descriptions</th>\n",
       "    </tr>\n",
       "  </thead>\n",
       "  <tbody>\n",
       "    <tr>\n",
       "      <th>0</th>\n",
       "      <td>Overnight</td>\n",
       "      <td>Haze</td>\n",
       "      <td>Low: 56 °F</td>\n",
       "      <td>Widespread haze. Mostly cloudy, with a low aro...</td>\n",
       "    </tr>\n",
       "    <tr>\n",
       "      <th>1</th>\n",
       "      <td>Friday</td>\n",
       "      <td>Partly Sunnythen Sunnyand Breezy</td>\n",
       "      <td>High: 69 °F</td>\n",
       "      <td>Mostly cloudy through mid morning, then gradua...</td>\n",
       "    </tr>\n",
       "    <tr>\n",
       "      <th>2</th>\n",
       "      <td>Friday Night</td>\n",
       "      <td>IncreasingClouds</td>\n",
       "      <td>Low: 57 °F</td>\n",
       "      <td>Increasing clouds, with a low around 57. West ...</td>\n",
       "    </tr>\n",
       "    <tr>\n",
       "      <th>3</th>\n",
       "      <td>Saturday</td>\n",
       "      <td>Partly Sunnythen MostlySunny andBreezy</td>\n",
       "      <td>High: 65 °F</td>\n",
       "      <td>Cloudy through mid morning, then gradual clear...</td>\n",
       "    </tr>\n",
       "    <tr>\n",
       "      <th>4</th>\n",
       "      <td>Saturday Night</td>\n",
       "      <td>Partly Cloudyand Breezythen MostlyCloudy</td>\n",
       "      <td>Low: 55 °F</td>\n",
       "      <td>Partly cloudy, with a low around 55. Breezy, w...</td>\n",
       "    </tr>\n",
       "    <tr>\n",
       "      <th>5</th>\n",
       "      <td>Sunday</td>\n",
       "      <td>Mostly Sunny</td>\n",
       "      <td>High: 65 °F</td>\n",
       "      <td>Mostly sunny, with a high near 65.</td>\n",
       "    </tr>\n",
       "    <tr>\n",
       "      <th>6</th>\n",
       "      <td>Sunday Night</td>\n",
       "      <td>Partly Cloudy</td>\n",
       "      <td>Low: 55 °F</td>\n",
       "      <td>Partly cloudy, with a low around 55.</td>\n",
       "    </tr>\n",
       "  </tbody>\n",
       "</table>\n",
       "</div>"
      ],
      "text/plain": [
       "          Periods                        Short_Descriptions  Temperature  \\\n",
       "0       Overnight                                      Haze   Low: 56 °F   \n",
       "1          Friday          Partly Sunnythen Sunnyand Breezy  High: 69 °F   \n",
       "2    Friday Night                          IncreasingClouds   Low: 57 °F   \n",
       "3        Saturday    Partly Sunnythen MostlySunny andBreezy  High: 65 °F   \n",
       "4  Saturday Night  Partly Cloudyand Breezythen MostlyCloudy   Low: 55 °F   \n",
       "5          Sunday                              Mostly Sunny  High: 65 °F   \n",
       "6    Sunday Night                             Partly Cloudy   Low: 55 °F   \n",
       "\n",
       "                                        Descriptions  \n",
       "0  Widespread haze. Mostly cloudy, with a low aro...  \n",
       "1  Mostly cloudy through mid morning, then gradua...  \n",
       "2  Increasing clouds, with a low around 57. West ...  \n",
       "3  Cloudy through mid morning, then gradual clear...  \n",
       "4  Partly cloudy, with a low around 55. Breezy, w...  \n",
       "5                 Mostly sunny, with a high near 65.  \n",
       "6               Partly cloudy, with a low around 55.  "
      ]
     },
     "execution_count": 13,
     "metadata": {},
     "output_type": "execute_result"
    }
   ],
   "source": [
    "weather_report = pd.DataFrame({})\n",
    "weather_report['Periods'] = Period[:7]\n",
    "weather_report['Short_Descriptions'] = short_descriptions[:7]\n",
    "weather_report['Temperature'] = temps[:7]\n",
    "weather_report['Descriptions'] = descriptions[:7]\n",
    "weather_report"
   ]
  },
  {
   "cell_type": "markdown",
   "id": "84024ed2",
   "metadata": {},
   "source": [
    "# 9. Write a python program to scrape fresher job listings from ‘https://internshala.com/’. It should include job title, company name, CTC, and apply date"
   ]
  },
  {
   "cell_type": "code",
   "execution_count": 14,
   "id": "4017313d",
   "metadata": {},
   "outputs": [
    {
     "name": "stdout",
     "output_type": "stream",
     "text": [
      "<Response [200]>\n"
     ]
    }
   ],
   "source": [
    "import pandas as pd\n",
    "import requests\n",
    "from bs4 import BeautifulSoup \n",
    "src = requests.get(\"https://internshala.com/fresher-jobs\")\n",
    "print(src)\n",
    "soup = BeautifulSoup(src.content,'lxml')"
   ]
  },
  {
   "cell_type": "code",
   "execution_count": 15,
   "id": "c418efc7",
   "metadata": {},
   "outputs": [],
   "source": [
    "job_title=[]\n",
    "company_name=[]\n",
    "CTC = []\n",
    "Apply_date = []"
   ]
  },
  {
   "cell_type": "code",
   "execution_count": 16,
   "id": "809fa217",
   "metadata": {},
   "outputs": [
    {
     "data": {
      "text/plain": [
       "['OMNI SPORT LEADER',\n",
       " 'Executive/Senior Executive - Partnerships',\n",
       " 'Executive - Sales',\n",
       " 'Junior Operations Executive',\n",
       " 'Sales Manager/Omni Sport Leader - Retail',\n",
       " 'Graphic Designer',\n",
       " 'Three.js Developer Trainee',\n",
       " 'Full Stack Developer Trainee',\n",
       " 'Immigration Consultant',\n",
       " 'Software Developer - Backend',\n",
       " 'Digital Marketing Executive',\n",
       " 'Lifestyle Manager',\n",
       " 'Marketing Campaign Manager',\n",
       " 'Business Development Associate',\n",
       " 'Telecaller',\n",
       " 'Content & E-commerce Management Executive',\n",
       " 'Software Engineer (PHP)',\n",
       " 'Inside Sales Executive',\n",
       " 'Graphic Designer',\n",
       " 'Junior Customer Service Specialist',\n",
       " 'Software Developer',\n",
       " 'Graphic Designer',\n",
       " 'Mobile App Developer',\n",
       " 'Digital Illustrator',\n",
       " 'Sales Magnet Associate',\n",
       " 'Talent Acquisition Executive',\n",
       " 'Career Counseling Engineer',\n",
       " 'Overseas Education Counselor',\n",
       " 'Phone Sales Representative',\n",
       " 'Business Development Associate',\n",
       " 'Order Processor',\n",
       " 'Internet of Things (IoT) Associate',\n",
       " 'Business Development Executive (Inside Sales)',\n",
       " 'Software Engineer Trainee',\n",
       " 'Junior Social Media Marketing Manager',\n",
       " 'Subject Matter Expert (Finance/Advance Math)',\n",
       " 'Backend Developer',\n",
       " 'Junior Full Stack Developer',\n",
       " 'Junior Copywriter',\n",
       " 'Junior Full Stack Developer']"
      ]
     },
     "execution_count": 16,
     "metadata": {},
     "output_type": "execute_result"
    }
   ],
   "source": [
    "jobs = soup.find_all('div',class_='heading_4_5 profile')\n",
    "for i in jobs:\n",
    "    job_title.append(i.text.strip())\n",
    "job_title"
   ]
  },
  {
   "cell_type": "code",
   "execution_count": 17,
   "id": "d13eb824",
   "metadata": {},
   "outputs": [
    {
     "data": {
      "text/plain": [
       "['Decathlon Sport India Private Limited',\n",
       " 'Freecharge Payments Technology Private Limited',\n",
       " 'Freecharge Payments Technology Private Limited',\n",
       " 'Freecharge Payments Technology Private Limited',\n",
       " 'Decathlon Sport India Private Limited',\n",
       " 'Fourth Frontier',\n",
       " 'Thinqbot Technologies Private Limited',\n",
       " 'Thinqbot Technologies Private Limited',\n",
       " 'Novus Immigration Services Private Limited',\n",
       " 'COSGrid Systems Private Limited',\n",
       " '21K School',\n",
       " 'Pinch Lifestyle Services Private Limited',\n",
       " 'Create My Content',\n",
       " 'Collegepond Counsellors Private Limited',\n",
       " 'Diya India Foundation',\n",
       " 'Wintage Garments Private Limited',\n",
       " 'WisdmLabs',\n",
       " 'Easyops Technologies Private Limited',\n",
       " 'Youngun India',\n",
       " 'Wono Inc',\n",
       " 'Plugincoder Technologies Private Limited',\n",
       " 'Grey Elephants Private Limited',\n",
       " 'E-Fill',\n",
       " 'Talentela',\n",
       " 'HyperCAP Private Limited',\n",
       " 'GREedge',\n",
       " 'GREedge',\n",
       " 'JenNext Mentors',\n",
       " 'Babco Foods',\n",
       " 'StayQrious India Private Limited',\n",
       " 'Babco Foods',\n",
       " 'Limelight',\n",
       " 'GREedge',\n",
       " 'Idea Elan India Private Limited',\n",
       " 'BarkButler Dog & Cat Toys',\n",
       " 'Innovalance Learning Systems',\n",
       " 'Indycium',\n",
       " 'Synergy Labs',\n",
       " 'Red Tree Design Studio Private Limited',\n",
       " 'Rugas Technologies Private Limited']"
      ]
     },
     "execution_count": 17,
     "metadata": {},
     "output_type": "execute_result"
    }
   ],
   "source": [
    "name = soup.find_all('div',class_='heading_6 company_name')\n",
    "for i in name:\n",
    "    company_name.append(i.text.strip())\n",
    "company_name"
   ]
  },
  {
   "cell_type": "code",
   "execution_count": 18,
   "id": "25ff983e",
   "metadata": {},
   "outputs": [],
   "source": [
    "details = soup.find_all('div',\"internship_other_details_container\")\n",
    "for i in details:\n",
    "    divs = i.find_all('div')\n",
    "    CTC.append(divs[6].text.strip())\n",
    "    Apply_date.append(divs[10].text.strip())"
   ]
  },
  {
   "cell_type": "code",
   "execution_count": 19,
   "id": "c2c287c7",
   "metadata": {},
   "outputs": [
    {
     "data": {
      "text/html": [
       "<div>\n",
       "<style scoped>\n",
       "    .dataframe tbody tr th:only-of-type {\n",
       "        vertical-align: middle;\n",
       "    }\n",
       "\n",
       "    .dataframe tbody tr th {\n",
       "        vertical-align: top;\n",
       "    }\n",
       "\n",
       "    .dataframe thead th {\n",
       "        text-align: right;\n",
       "    }\n",
       "</style>\n",
       "<table border=\"1\" class=\"dataframe\">\n",
       "  <thead>\n",
       "    <tr style=\"text-align: right;\">\n",
       "      <th></th>\n",
       "      <th>Job_Title</th>\n",
       "      <th>Company_name</th>\n",
       "      <th>CTC</th>\n",
       "      <th>Apply_Date</th>\n",
       "    </tr>\n",
       "  </thead>\n",
       "  <tbody>\n",
       "    <tr>\n",
       "      <th>0</th>\n",
       "      <td>OMNI SPORT LEADER</td>\n",
       "      <td>Decathlon Sport India Private Limited</td>\n",
       "      <td>3 - 4 LPA</td>\n",
       "      <td>18 Sep' 21</td>\n",
       "    </tr>\n",
       "    <tr>\n",
       "      <th>1</th>\n",
       "      <td>Executive/Senior Executive - Partnerships</td>\n",
       "      <td>Freecharge Payments Technology Private Limited</td>\n",
       "      <td>3 - 4.2 LPA</td>\n",
       "      <td>11 Sep' 21</td>\n",
       "    </tr>\n",
       "    <tr>\n",
       "      <th>2</th>\n",
       "      <td>Executive - Sales</td>\n",
       "      <td>Freecharge Payments Technology Private Limited</td>\n",
       "      <td>3 - 3.5 LPA</td>\n",
       "      <td>11 Sep' 21</td>\n",
       "    </tr>\n",
       "    <tr>\n",
       "      <th>3</th>\n",
       "      <td>Junior Operations Executive</td>\n",
       "      <td>Freecharge Payments Technology Private Limited</td>\n",
       "      <td>3 - 4 LPA</td>\n",
       "      <td>4 Sep' 21</td>\n",
       "    </tr>\n",
       "    <tr>\n",
       "      <th>4</th>\n",
       "      <td>Sales Manager/Omni Sport Leader - Retail</td>\n",
       "      <td>Decathlon Sport India Private Limited</td>\n",
       "      <td>3.3 - 4.5 LPA</td>\n",
       "      <td>21 Aug' 21</td>\n",
       "    </tr>\n",
       "    <tr>\n",
       "      <th>5</th>\n",
       "      <td>Graphic Designer</td>\n",
       "      <td>Fourth Frontier</td>\n",
       "      <td>3 - 5 LPA</td>\n",
       "      <td>19 Sep' 21</td>\n",
       "    </tr>\n",
       "    <tr>\n",
       "      <th>6</th>\n",
       "      <td>Three.js Developer Trainee</td>\n",
       "      <td>Thinqbot Technologies Private Limited</td>\n",
       "      <td>3 - 8 LPA</td>\n",
       "      <td>19 Sep' 21</td>\n",
       "    </tr>\n",
       "    <tr>\n",
       "      <th>7</th>\n",
       "      <td>Full Stack Developer Trainee</td>\n",
       "      <td>Thinqbot Technologies Private Limited</td>\n",
       "      <td>3 - 8 LPA</td>\n",
       "      <td>19 Sep' 21</td>\n",
       "    </tr>\n",
       "    <tr>\n",
       "      <th>8</th>\n",
       "      <td>Immigration Consultant</td>\n",
       "      <td>Novus Immigration Services Private Limited</td>\n",
       "      <td>4 - 5 LPA</td>\n",
       "      <td>19 Sep' 21</td>\n",
       "    </tr>\n",
       "    <tr>\n",
       "      <th>9</th>\n",
       "      <td>Software Developer - Backend</td>\n",
       "      <td>COSGrid Systems Private Limited</td>\n",
       "      <td>4.2 - 4.8 LPA</td>\n",
       "      <td>19 Sep' 21</td>\n",
       "    </tr>\n",
       "    <tr>\n",
       "      <th>10</th>\n",
       "      <td>Digital Marketing Executive</td>\n",
       "      <td>21K School</td>\n",
       "      <td>3 - 3.5 LPA</td>\n",
       "      <td>19 Sep' 21</td>\n",
       "    </tr>\n",
       "    <tr>\n",
       "      <th>11</th>\n",
       "      <td>Lifestyle Manager</td>\n",
       "      <td>Pinch Lifestyle Services Private Limited</td>\n",
       "      <td>3.6 - 6 LPA</td>\n",
       "      <td>18 Sep' 21</td>\n",
       "    </tr>\n",
       "    <tr>\n",
       "      <th>12</th>\n",
       "      <td>Marketing Campaign Manager</td>\n",
       "      <td>Create My Content</td>\n",
       "      <td>3 - 3.6 LPA</td>\n",
       "      <td>18 Sep' 21</td>\n",
       "    </tr>\n",
       "    <tr>\n",
       "      <th>13</th>\n",
       "      <td>Business Development Associate</td>\n",
       "      <td>Collegepond Counsellors Private Limited</td>\n",
       "      <td>3 - 5 LPA</td>\n",
       "      <td>18 Sep' 21</td>\n",
       "    </tr>\n",
       "    <tr>\n",
       "      <th>14</th>\n",
       "      <td>Telecaller</td>\n",
       "      <td>Diya India Foundation</td>\n",
       "      <td>3 LPA</td>\n",
       "      <td>18 Sep' 21</td>\n",
       "    </tr>\n",
       "    <tr>\n",
       "      <th>15</th>\n",
       "      <td>Content &amp; E-commerce Management Executive</td>\n",
       "      <td>Wintage Garments Private Limited</td>\n",
       "      <td>3 LPA</td>\n",
       "      <td>18 Sep' 21</td>\n",
       "    </tr>\n",
       "    <tr>\n",
       "      <th>16</th>\n",
       "      <td>Software Engineer (PHP)</td>\n",
       "      <td>WisdmLabs</td>\n",
       "      <td>5 LPA</td>\n",
       "      <td>18 Sep' 21</td>\n",
       "    </tr>\n",
       "    <tr>\n",
       "      <th>17</th>\n",
       "      <td>Inside Sales Executive</td>\n",
       "      <td>Easyops Technologies Private Limited</td>\n",
       "      <td>3 - 4 LPA</td>\n",
       "      <td>18 Sep' 21</td>\n",
       "    </tr>\n",
       "    <tr>\n",
       "      <th>18</th>\n",
       "      <td>Graphic Designer</td>\n",
       "      <td>Youngun India</td>\n",
       "      <td>3 - 4 LPA</td>\n",
       "      <td>18 Sep' 21</td>\n",
       "    </tr>\n",
       "    <tr>\n",
       "      <th>19</th>\n",
       "      <td>Junior Customer Service Specialist</td>\n",
       "      <td>Wono Inc</td>\n",
       "      <td>5.1 - 5.9 LPA</td>\n",
       "      <td>18 Sep' 21</td>\n",
       "    </tr>\n",
       "    <tr>\n",
       "      <th>20</th>\n",
       "      <td>Software Developer</td>\n",
       "      <td>Plugincoder Technologies Private Limited</td>\n",
       "      <td>4 - 6 LPA</td>\n",
       "      <td>17 Sep' 21</td>\n",
       "    </tr>\n",
       "    <tr>\n",
       "      <th>21</th>\n",
       "      <td>Graphic Designer</td>\n",
       "      <td>Grey Elephants Private Limited</td>\n",
       "      <td>4.8 - 5 LPA</td>\n",
       "      <td>17 Sep' 21</td>\n",
       "    </tr>\n",
       "    <tr>\n",
       "      <th>22</th>\n",
       "      <td>Mobile App Developer</td>\n",
       "      <td>E-Fill</td>\n",
       "      <td>3 - 5 LPA</td>\n",
       "      <td>17 Sep' 21</td>\n",
       "    </tr>\n",
       "    <tr>\n",
       "      <th>23</th>\n",
       "      <td>Digital Illustrator</td>\n",
       "      <td>Talentela</td>\n",
       "      <td>5 - 6 LPA</td>\n",
       "      <td>17 Sep' 21</td>\n",
       "    </tr>\n",
       "    <tr>\n",
       "      <th>24</th>\n",
       "      <td>Sales Magnet Associate</td>\n",
       "      <td>HyperCAP Private Limited</td>\n",
       "      <td>3 LPA</td>\n",
       "      <td>17 Sep' 21</td>\n",
       "    </tr>\n",
       "    <tr>\n",
       "      <th>25</th>\n",
       "      <td>Talent Acquisition Executive</td>\n",
       "      <td>GREedge</td>\n",
       "      <td>4.5 LPA</td>\n",
       "      <td>17 Sep' 21</td>\n",
       "    </tr>\n",
       "    <tr>\n",
       "      <th>26</th>\n",
       "      <td>Career Counseling Engineer</td>\n",
       "      <td>GREedge</td>\n",
       "      <td>3.75 LPA</td>\n",
       "      <td>17 Sep' 21</td>\n",
       "    </tr>\n",
       "    <tr>\n",
       "      <th>27</th>\n",
       "      <td>Overseas Education Counselor</td>\n",
       "      <td>JenNext Mentors</td>\n",
       "      <td>3 - 5 LPA</td>\n",
       "      <td>17 Sep' 21</td>\n",
       "    </tr>\n",
       "    <tr>\n",
       "      <th>28</th>\n",
       "      <td>Phone Sales Representative</td>\n",
       "      <td>Babco Foods</td>\n",
       "      <td>3.5 LPA</td>\n",
       "      <td>17 Sep' 21</td>\n",
       "    </tr>\n",
       "    <tr>\n",
       "      <th>29</th>\n",
       "      <td>Business Development Associate</td>\n",
       "      <td>StayQrious India Private Limited</td>\n",
       "      <td>4 - 5 LPA</td>\n",
       "      <td>17 Sep' 21</td>\n",
       "    </tr>\n",
       "    <tr>\n",
       "      <th>30</th>\n",
       "      <td>Order Processor</td>\n",
       "      <td>Babco Foods</td>\n",
       "      <td>4 LPA</td>\n",
       "      <td>17 Sep' 21</td>\n",
       "    </tr>\n",
       "    <tr>\n",
       "      <th>31</th>\n",
       "      <td>Internet of Things (IoT) Associate</td>\n",
       "      <td>Limelight</td>\n",
       "      <td>3 - 5 LPA</td>\n",
       "      <td>17 Sep' 21</td>\n",
       "    </tr>\n",
       "    <tr>\n",
       "      <th>32</th>\n",
       "      <td>Business Development Executive (Inside Sales)</td>\n",
       "      <td>GREedge</td>\n",
       "      <td>3.75 LPA</td>\n",
       "      <td>17 Sep' 21</td>\n",
       "    </tr>\n",
       "    <tr>\n",
       "      <th>33</th>\n",
       "      <td>Software Engineer Trainee</td>\n",
       "      <td>Idea Elan India Private Limited</td>\n",
       "      <td>3 - 3.5 LPA</td>\n",
       "      <td>16 Sep' 21</td>\n",
       "    </tr>\n",
       "    <tr>\n",
       "      <th>34</th>\n",
       "      <td>Junior Social Media Marketing Manager</td>\n",
       "      <td>BarkButler Dog &amp; Cat Toys</td>\n",
       "      <td>3 - 3.5 LPA</td>\n",
       "      <td>16 Sep' 21</td>\n",
       "    </tr>\n",
       "    <tr>\n",
       "      <th>35</th>\n",
       "      <td>Subject Matter Expert (Finance/Advance Math)</td>\n",
       "      <td>Innovalance Learning Systems</td>\n",
       "      <td>3 - 3.05 LPA</td>\n",
       "      <td>16 Sep' 21</td>\n",
       "    </tr>\n",
       "    <tr>\n",
       "      <th>36</th>\n",
       "      <td>Backend Developer</td>\n",
       "      <td>Indycium</td>\n",
       "      <td>4.2 - 4.8 LPA</td>\n",
       "      <td>16 Sep' 21</td>\n",
       "    </tr>\n",
       "    <tr>\n",
       "      <th>37</th>\n",
       "      <td>Junior Full Stack Developer</td>\n",
       "      <td>Synergy Labs</td>\n",
       "      <td>3 - 4 LPA</td>\n",
       "      <td>16 Sep' 21</td>\n",
       "    </tr>\n",
       "    <tr>\n",
       "      <th>38</th>\n",
       "      <td>Junior Copywriter</td>\n",
       "      <td>Red Tree Design Studio Private Limited</td>\n",
       "      <td>3 LPA</td>\n",
       "      <td>16 Sep' 21</td>\n",
       "    </tr>\n",
       "    <tr>\n",
       "      <th>39</th>\n",
       "      <td>Junior Full Stack Developer</td>\n",
       "      <td>Rugas Technologies Private Limited</td>\n",
       "      <td>3 - 3.5 LPA</td>\n",
       "      <td>16 Sep' 21</td>\n",
       "    </tr>\n",
       "  </tbody>\n",
       "</table>\n",
       "</div>"
      ],
      "text/plain": [
       "                                        Job_Title  \\\n",
       "0                               OMNI SPORT LEADER   \n",
       "1       Executive/Senior Executive - Partnerships   \n",
       "2                               Executive - Sales   \n",
       "3                     Junior Operations Executive   \n",
       "4        Sales Manager/Omni Sport Leader - Retail   \n",
       "5                                Graphic Designer   \n",
       "6                      Three.js Developer Trainee   \n",
       "7                    Full Stack Developer Trainee   \n",
       "8                          Immigration Consultant   \n",
       "9                    Software Developer - Backend   \n",
       "10                    Digital Marketing Executive   \n",
       "11                              Lifestyle Manager   \n",
       "12                     Marketing Campaign Manager   \n",
       "13                 Business Development Associate   \n",
       "14                                     Telecaller   \n",
       "15      Content & E-commerce Management Executive   \n",
       "16                        Software Engineer (PHP)   \n",
       "17                         Inside Sales Executive   \n",
       "18                               Graphic Designer   \n",
       "19             Junior Customer Service Specialist   \n",
       "20                             Software Developer   \n",
       "21                               Graphic Designer   \n",
       "22                           Mobile App Developer   \n",
       "23                            Digital Illustrator   \n",
       "24                         Sales Magnet Associate   \n",
       "25                   Talent Acquisition Executive   \n",
       "26                     Career Counseling Engineer   \n",
       "27                   Overseas Education Counselor   \n",
       "28                     Phone Sales Representative   \n",
       "29                 Business Development Associate   \n",
       "30                                Order Processor   \n",
       "31             Internet of Things (IoT) Associate   \n",
       "32  Business Development Executive (Inside Sales)   \n",
       "33                      Software Engineer Trainee   \n",
       "34          Junior Social Media Marketing Manager   \n",
       "35   Subject Matter Expert (Finance/Advance Math)   \n",
       "36                              Backend Developer   \n",
       "37                    Junior Full Stack Developer   \n",
       "38                              Junior Copywriter   \n",
       "39                    Junior Full Stack Developer   \n",
       "\n",
       "                                      Company_name            CTC  Apply_Date  \n",
       "0            Decathlon Sport India Private Limited      3 - 4 LPA  18 Sep' 21  \n",
       "1   Freecharge Payments Technology Private Limited    3 - 4.2 LPA  11 Sep' 21  \n",
       "2   Freecharge Payments Technology Private Limited    3 - 3.5 LPA  11 Sep' 21  \n",
       "3   Freecharge Payments Technology Private Limited      3 - 4 LPA   4 Sep' 21  \n",
       "4            Decathlon Sport India Private Limited  3.3 - 4.5 LPA  21 Aug' 21  \n",
       "5                                  Fourth Frontier      3 - 5 LPA  19 Sep' 21  \n",
       "6            Thinqbot Technologies Private Limited      3 - 8 LPA  19 Sep' 21  \n",
       "7            Thinqbot Technologies Private Limited      3 - 8 LPA  19 Sep' 21  \n",
       "8       Novus Immigration Services Private Limited      4 - 5 LPA  19 Sep' 21  \n",
       "9                  COSGrid Systems Private Limited  4.2 - 4.8 LPA  19 Sep' 21  \n",
       "10                                      21K School    3 - 3.5 LPA  19 Sep' 21  \n",
       "11        Pinch Lifestyle Services Private Limited    3.6 - 6 LPA  18 Sep' 21  \n",
       "12                               Create My Content    3 - 3.6 LPA  18 Sep' 21  \n",
       "13         Collegepond Counsellors Private Limited      3 - 5 LPA  18 Sep' 21  \n",
       "14                           Diya India Foundation          3 LPA  18 Sep' 21  \n",
       "15                Wintage Garments Private Limited          3 LPA  18 Sep' 21  \n",
       "16                                       WisdmLabs          5 LPA  18 Sep' 21  \n",
       "17            Easyops Technologies Private Limited      3 - 4 LPA  18 Sep' 21  \n",
       "18                                   Youngun India      3 - 4 LPA  18 Sep' 21  \n",
       "19                                        Wono Inc  5.1 - 5.9 LPA  18 Sep' 21  \n",
       "20        Plugincoder Technologies Private Limited      4 - 6 LPA  17 Sep' 21  \n",
       "21                  Grey Elephants Private Limited    4.8 - 5 LPA  17 Sep' 21  \n",
       "22                                          E-Fill      3 - 5 LPA  17 Sep' 21  \n",
       "23                                       Talentela      5 - 6 LPA  17 Sep' 21  \n",
       "24                        HyperCAP Private Limited          3 LPA  17 Sep' 21  \n",
       "25                                         GREedge        4.5 LPA  17 Sep' 21  \n",
       "26                                         GREedge       3.75 LPA  17 Sep' 21  \n",
       "27                                 JenNext Mentors      3 - 5 LPA  17 Sep' 21  \n",
       "28                                     Babco Foods        3.5 LPA  17 Sep' 21  \n",
       "29                StayQrious India Private Limited      4 - 5 LPA  17 Sep' 21  \n",
       "30                                     Babco Foods          4 LPA  17 Sep' 21  \n",
       "31                                       Limelight      3 - 5 LPA  17 Sep' 21  \n",
       "32                                         GREedge       3.75 LPA  17 Sep' 21  \n",
       "33                 Idea Elan India Private Limited    3 - 3.5 LPA  16 Sep' 21  \n",
       "34                       BarkButler Dog & Cat Toys    3 - 3.5 LPA  16 Sep' 21  \n",
       "35                    Innovalance Learning Systems   3 - 3.05 LPA  16 Sep' 21  \n",
       "36                                        Indycium  4.2 - 4.8 LPA  16 Sep' 21  \n",
       "37                                    Synergy Labs      3 - 4 LPA  16 Sep' 21  \n",
       "38          Red Tree Design Studio Private Limited          3 LPA  16 Sep' 21  \n",
       "39              Rugas Technologies Private Limited    3 - 3.5 LPA  16 Sep' 21  "
      ]
     },
     "execution_count": 19,
     "metadata": {},
     "output_type": "execute_result"
    }
   ],
   "source": [
    "import pandas as pd\n",
    "Fresher_joblist = pd.DataFrame({})\n",
    "Fresher_joblist['Job_Title'] = job_title[:40]\n",
    "Fresher_joblist['Company_name'] = company_name[:40]\n",
    "Fresher_joblist['CTC'] = CTC[:40]\n",
    "Fresher_joblist['Apply_Date'] = Apply_date[:40]\n",
    "Fresher_joblist"
   ]
  },
  {
   "cell_type": "code",
   "execution_count": null,
   "id": "cec3bdd0",
   "metadata": {},
   "outputs": [],
   "source": []
  },
  {
   "cell_type": "markdown",
   "id": "eae3b6f3",
   "metadata": {},
   "source": [
    "# 10. Write a python program to scrape house details from https://www.nobroker.in/ for any location. It should include house title, location, area, emi and price"
   ]
  },
  {
   "cell_type": "code",
   "execution_count": 68,
   "id": "05ef3898",
   "metadata": {},
   "outputs": [
    {
     "name": "stdout",
     "output_type": "stream",
     "text": [
      "<Response [200]>\n"
     ]
    }
   ],
   "source": [
    "import pandas as pd\n",
    "import requests\n",
    "from bs4 import BeautifulSoup \n",
    "src = requests.get(\"https://www.nobroker.in/property/rent/hyderabad/Banjara%20Hills?searchParam=W3sibGF0IjoxNy40MTY4ODksImxvbiI6NzguNDM4NjcsInBsYWNlSWQiOiJDaElKcFREQzV5aVh5enNSb01yMzlWS1g5UXMiLCJwbGFjZU5hbWUiOiJCYW5qYXJhIEhpbGxzIn1d&radius=2.0&sharedAccomodation=0\")\n",
    "print(src)\n",
    "soup = BeautifulSoup(src.content,'lxml')"
   ]
  },
  {
   "cell_type": "code",
   "execution_count": 69,
   "id": "6dae6104",
   "metadata": {},
   "outputs": [
    {
     "data": {
      "text/plain": [
       "['2 BHK Flat  For Rent  In Lotus Villa  In Banjara Hills',\n",
       " '3 BHK In Independent House  For Rent  In Banjara Hills',\n",
       " '2 BHK Flat  For Rent  In Creative Castle Apartment In Banjara Hills',\n",
       " '2 BHK Flat  For Rent  In Hill View Residency, In Khairtabad',\n",
       " '3 BHK Flat  For Rent  In Prashanthi Residency In Banjara Hills',\n",
       " '3 BHK Apartment  For Rent  In Babukhan Hill View In Banjara Hills',\n",
       " '3 BHK In Independent House  For Rent  In Banjara Hills Road No 14',\n",
       " '4 BHK Flat  For Rent  In Elites Pride Apartments In Banjara Hills',\n",
       " '3 BHK Flat  For Rent  In Javed Residency In Banjara Hills Road No.10',\n",
       " '2 BHK Flat  For Rent  In Mak Towers In Banjara Hills']"
      ]
     },
     "execution_count": 69,
     "metadata": {},
     "output_type": "execute_result"
    }
   ],
   "source": [
    "title = soup.find_all('h2',class_='heading-6 font-semi-bold nb__1dDS4')\n",
    "house_title = []\n",
    "for i in title:\n",
    "    for j in i.find_all('span'):\n",
    "        house_title.append(j.text.strip())\n",
    "house_title"
   ]
  },
  {
   "cell_type": "code",
   "execution_count": 70,
   "id": "79ecb217",
   "metadata": {},
   "outputs": [
    {
     "data": {
      "text/plain": [
       "['Jubilee Hills',\n",
       " 'Independent House, Vemireddy Enclave',\n",
       " 'Creative Castle Apartment, Green Valley, Banjara Hills, Hyderabad, Telangana 500034, India',\n",
       " 'D No 6/3/609/15, PN 36, Anand Nagar Colony, Khairtabad, Hyderabad, Telangana 500004, India',\n",
       " 'Fortune Enclave, Sri Ram Nagar Colony',\n",
       " 'Babukhan Hill View\\xa0 Babukhan Hill View, Hanuman Temple St, MLA Colony, Banjara Hills, Hyderabad, Telangana 500034, India',\n",
       " 'Independent House, Banjara hills close to nandhi nagr .',\n",
       " 'Rd Number 5, Green Valley, Banjara Hills',\n",
       " 'Opposite City Center mall',\n",
       " 'Road No. 10, Singada Kunta, Banjara Hills, Hyderabad, Telangana 500034, India']"
      ]
     },
     "execution_count": 70,
     "metadata": {},
     "output_type": "execute_result"
    }
   ],
   "source": [
    "loc = soup.find_all('div',class_=\"nb__2EXTx\")\n",
    "location = []\n",
    "for i in loc:\n",
    "    location.append(i.text.strip())\n",
    "location"
   ]
  },
  {
   "cell_type": "code",
   "execution_count": 71,
   "id": "e5a8c64b",
   "metadata": {},
   "outputs": [
    {
     "data": {
      "text/plain": [
       "['1,520 sqft',\n",
       " '3,000 sqft',\n",
       " '900 sqft',\n",
       " '1,000 sqft',\n",
       " '1,800 sqft',\n",
       " '2,500 sqft',\n",
       " '1,650 sqft',\n",
       " '3,300 sqft',\n",
       " '2,200 sqft',\n",
       " '1,300 sqft']"
      ]
     },
     "execution_count": 71,
     "metadata": {},
     "output_type": "execute_result"
    }
   ],
   "source": [
    "area = soup.find_all('div',class_=\"nb__3uAB8\")\n",
    "Area = []\n",
    "for i in area:\n",
    "    Area.append(i.text.strip())\n",
    "Area"
   ]
  },
  {
   "cell_type": "code",
   "execution_count": 72,
   "id": "caf3ac9d",
   "metadata": {},
   "outputs": [
    {
     "data": {
      "text/plain": [
       "['₹ 34,500 +₹ 2,000 Maintenance',\n",
       " '₹ 60,000 +₹ 1,500 Maintenance',\n",
       " '₹ 22,000 +₹ 1,800 Maintenance',\n",
       " '₹ 18,000 +₹ 1,000 Maintenance',\n",
       " '₹ 39,000 +₹ 2,500 Maintenance',\n",
       " '₹ 35,000 +₹ 5,500 Maintenance',\n",
       " '₹ 40,000 +₹ 3,000 Maintenance',\n",
       " '₹ 38,000 +₹ 4,000 Maintenance',\n",
       " '₹ 55,000 +₹ 2,000 Maintenance',\n",
       " '₹ 18,000 +₹ 2,000 Maintenance']"
      ]
     },
     "execution_count": 72,
     "metadata": {},
     "output_type": "execute_result"
    }
   ],
   "source": [
    "emi = soup.find_all('div', class_ = \"nb__3vqcl\")\n",
    "Emi = []\n",
    "for i in emi:\n",
    "    Emi.append(i.text.strip())\n",
    "Emi"
   ]
  },
  {
   "cell_type": "code",
   "execution_count": 73,
   "id": "be046562",
   "metadata": {},
   "outputs": [
    {
     "data": {
      "text/plain": [
       "['₹75,000',\n",
       " '₹1,80,000',\n",
       " '₹44,000',\n",
       " '₹36,000',\n",
       " '₹1,00,000',\n",
       " '₹1,20,000',\n",
       " '₹2,00,000',\n",
       " '₹1,00,000',\n",
       " '₹1,00,000',\n",
       " '₹18,000']"
      ]
     },
     "execution_count": 73,
     "metadata": {},
     "output_type": "execute_result"
    }
   ],
   "source": [
    "price = soup.find_all('div', id = \"roomType\")\n",
    "Price = []\n",
    "for i in price:\n",
    "    Price.append(i.text)\n",
    "Price"
   ]
  },
  {
   "cell_type": "code",
   "execution_count": 74,
   "id": "f0cf9aa6",
   "metadata": {},
   "outputs": [
    {
     "data": {
      "text/html": [
       "<div>\n",
       "<style scoped>\n",
       "    .dataframe tbody tr th:only-of-type {\n",
       "        vertical-align: middle;\n",
       "    }\n",
       "\n",
       "    .dataframe tbody tr th {\n",
       "        vertical-align: top;\n",
       "    }\n",
       "\n",
       "    .dataframe thead th {\n",
       "        text-align: right;\n",
       "    }\n",
       "</style>\n",
       "<table border=\"1\" class=\"dataframe\">\n",
       "  <thead>\n",
       "    <tr style=\"text-align: right;\">\n",
       "      <th></th>\n",
       "      <th>House_title</th>\n",
       "      <th>Location</th>\n",
       "      <th>Area</th>\n",
       "      <th>EMI</th>\n",
       "      <th>Price</th>\n",
       "    </tr>\n",
       "  </thead>\n",
       "  <tbody>\n",
       "    <tr>\n",
       "      <th>0</th>\n",
       "      <td>2 BHK Flat  For Rent  In Lotus Villa  In Banja...</td>\n",
       "      <td>Jubilee Hills</td>\n",
       "      <td>1,520 sqft</td>\n",
       "      <td>₹ 34,500 +₹ 2,000 Maintenance</td>\n",
       "      <td>₹75,000</td>\n",
       "    </tr>\n",
       "    <tr>\n",
       "      <th>1</th>\n",
       "      <td>3 BHK In Independent House  For Rent  In Banja...</td>\n",
       "      <td>Independent House, Vemireddy Enclave</td>\n",
       "      <td>3,000 sqft</td>\n",
       "      <td>₹ 60,000 +₹ 1,500 Maintenance</td>\n",
       "      <td>₹1,80,000</td>\n",
       "    </tr>\n",
       "    <tr>\n",
       "      <th>2</th>\n",
       "      <td>2 BHK Flat  For Rent  In Creative Castle Apart...</td>\n",
       "      <td>Creative Castle Apartment, Green Valley, Banja...</td>\n",
       "      <td>900 sqft</td>\n",
       "      <td>₹ 22,000 +₹ 1,800 Maintenance</td>\n",
       "      <td>₹44,000</td>\n",
       "    </tr>\n",
       "    <tr>\n",
       "      <th>3</th>\n",
       "      <td>2 BHK Flat  For Rent  In Hill View Residency, ...</td>\n",
       "      <td>D No 6/3/609/15, PN 36, Anand Nagar Colony, Kh...</td>\n",
       "      <td>1,000 sqft</td>\n",
       "      <td>₹ 18,000 +₹ 1,000 Maintenance</td>\n",
       "      <td>₹36,000</td>\n",
       "    </tr>\n",
       "    <tr>\n",
       "      <th>4</th>\n",
       "      <td>3 BHK Flat  For Rent  In Prashanthi Residency ...</td>\n",
       "      <td>Fortune Enclave, Sri Ram Nagar Colony</td>\n",
       "      <td>1,800 sqft</td>\n",
       "      <td>₹ 39,000 +₹ 2,500 Maintenance</td>\n",
       "      <td>₹1,00,000</td>\n",
       "    </tr>\n",
       "    <tr>\n",
       "      <th>5</th>\n",
       "      <td>3 BHK Apartment  For Rent  In Babukhan Hill Vi...</td>\n",
       "      <td>Babukhan Hill View  Babukhan Hill View, Hanuma...</td>\n",
       "      <td>2,500 sqft</td>\n",
       "      <td>₹ 35,000 +₹ 5,500 Maintenance</td>\n",
       "      <td>₹1,20,000</td>\n",
       "    </tr>\n",
       "    <tr>\n",
       "      <th>6</th>\n",
       "      <td>3 BHK In Independent House  For Rent  In Banja...</td>\n",
       "      <td>Independent House, Banjara hills close to nand...</td>\n",
       "      <td>1,650 sqft</td>\n",
       "      <td>₹ 40,000 +₹ 3,000 Maintenance</td>\n",
       "      <td>₹2,00,000</td>\n",
       "    </tr>\n",
       "    <tr>\n",
       "      <th>7</th>\n",
       "      <td>4 BHK Flat  For Rent  In Elites Pride Apartmen...</td>\n",
       "      <td>Rd Number 5, Green Valley, Banjara Hills</td>\n",
       "      <td>3,300 sqft</td>\n",
       "      <td>₹ 38,000 +₹ 4,000 Maintenance</td>\n",
       "      <td>₹1,00,000</td>\n",
       "    </tr>\n",
       "    <tr>\n",
       "      <th>8</th>\n",
       "      <td>3 BHK Flat  For Rent  In Javed Residency In Ba...</td>\n",
       "      <td>Opposite City Center mall</td>\n",
       "      <td>2,200 sqft</td>\n",
       "      <td>₹ 55,000 +₹ 2,000 Maintenance</td>\n",
       "      <td>₹1,00,000</td>\n",
       "    </tr>\n",
       "    <tr>\n",
       "      <th>9</th>\n",
       "      <td>2 BHK Flat  For Rent  In Mak Towers In Banjara...</td>\n",
       "      <td>Road No. 10, Singada Kunta, Banjara Hills, Hyd...</td>\n",
       "      <td>1,300 sqft</td>\n",
       "      <td>₹ 18,000 +₹ 2,000 Maintenance</td>\n",
       "      <td>₹18,000</td>\n",
       "    </tr>\n",
       "  </tbody>\n",
       "</table>\n",
       "</div>"
      ],
      "text/plain": [
       "                                         House_title  \\\n",
       "0  2 BHK Flat  For Rent  In Lotus Villa  In Banja...   \n",
       "1  3 BHK In Independent House  For Rent  In Banja...   \n",
       "2  2 BHK Flat  For Rent  In Creative Castle Apart...   \n",
       "3  2 BHK Flat  For Rent  In Hill View Residency, ...   \n",
       "4  3 BHK Flat  For Rent  In Prashanthi Residency ...   \n",
       "5  3 BHK Apartment  For Rent  In Babukhan Hill Vi...   \n",
       "6  3 BHK In Independent House  For Rent  In Banja...   \n",
       "7  4 BHK Flat  For Rent  In Elites Pride Apartmen...   \n",
       "8  3 BHK Flat  For Rent  In Javed Residency In Ba...   \n",
       "9  2 BHK Flat  For Rent  In Mak Towers In Banjara...   \n",
       "\n",
       "                                            Location        Area  \\\n",
       "0                                      Jubilee Hills  1,520 sqft   \n",
       "1               Independent House, Vemireddy Enclave  3,000 sqft   \n",
       "2  Creative Castle Apartment, Green Valley, Banja...    900 sqft   \n",
       "3  D No 6/3/609/15, PN 36, Anand Nagar Colony, Kh...  1,000 sqft   \n",
       "4              Fortune Enclave, Sri Ram Nagar Colony  1,800 sqft   \n",
       "5  Babukhan Hill View  Babukhan Hill View, Hanuma...  2,500 sqft   \n",
       "6  Independent House, Banjara hills close to nand...  1,650 sqft   \n",
       "7           Rd Number 5, Green Valley, Banjara Hills  3,300 sqft   \n",
       "8                          Opposite City Center mall  2,200 sqft   \n",
       "9  Road No. 10, Singada Kunta, Banjara Hills, Hyd...  1,300 sqft   \n",
       "\n",
       "                             EMI      Price  \n",
       "0  ₹ 34,500 +₹ 2,000 Maintenance    ₹75,000  \n",
       "1  ₹ 60,000 +₹ 1,500 Maintenance  ₹1,80,000  \n",
       "2  ₹ 22,000 +₹ 1,800 Maintenance    ₹44,000  \n",
       "3  ₹ 18,000 +₹ 1,000 Maintenance    ₹36,000  \n",
       "4  ₹ 39,000 +₹ 2,500 Maintenance  ₹1,00,000  \n",
       "5  ₹ 35,000 +₹ 5,500 Maintenance  ₹1,20,000  \n",
       "6  ₹ 40,000 +₹ 3,000 Maintenance  ₹2,00,000  \n",
       "7  ₹ 38,000 +₹ 4,000 Maintenance  ₹1,00,000  \n",
       "8  ₹ 55,000 +₹ 2,000 Maintenance  ₹1,00,000  \n",
       "9  ₹ 18,000 +₹ 2,000 Maintenance    ₹18,000  "
      ]
     },
     "execution_count": 74,
     "metadata": {},
     "output_type": "execute_result"
    }
   ],
   "source": [
    "import pandas as pd\n",
    "House_details = pd.DataFrame({})\n",
    "House_details['House_title'] = house_title\n",
    "House_details['Location'] = location\n",
    "House_details['Area'] = Area\n",
    "House_details['EMI'] = Emi\n",
    "House_details['Price'] = Price\n",
    "House_details"
   ]
  },
  {
   "cell_type": "code",
   "execution_count": null,
   "id": "f906d4a3",
   "metadata": {},
   "outputs": [],
   "source": []
  },
  {
   "cell_type": "code",
   "execution_count": null,
   "id": "6c37fb2b",
   "metadata": {},
   "outputs": [],
   "source": []
  },
  {
   "cell_type": "code",
   "execution_count": null,
   "id": "12768e85",
   "metadata": {},
   "outputs": [],
   "source": []
  },
  {
   "cell_type": "code",
   "execution_count": null,
   "id": "8cfefb36",
   "metadata": {},
   "outputs": [],
   "source": []
  },
  {
   "cell_type": "code",
   "execution_count": null,
   "id": "4de8c53b",
   "metadata": {},
   "outputs": [],
   "source": []
  },
  {
   "cell_type": "code",
   "execution_count": null,
   "id": "194846c9",
   "metadata": {},
   "outputs": [],
   "source": []
  },
  {
   "cell_type": "code",
   "execution_count": null,
   "id": "8d0cad97",
   "metadata": {},
   "outputs": [],
   "source": []
  },
  {
   "cell_type": "code",
   "execution_count": null,
   "id": "8a8247ca",
   "metadata": {},
   "outputs": [],
   "source": []
  },
  {
   "cell_type": "code",
   "execution_count": null,
   "id": "6fd290e4",
   "metadata": {},
   "outputs": [],
   "source": []
  },
  {
   "cell_type": "code",
   "execution_count": null,
   "id": "71a97451",
   "metadata": {},
   "outputs": [],
   "source": []
  }
 ],
 "metadata": {
  "kernelspec": {
   "display_name": "Python 3",
   "language": "python",
   "name": "python3"
  },
  "language_info": {
   "codemirror_mode": {
    "name": "ipython",
    "version": 3
   },
   "file_extension": ".py",
   "mimetype": "text/x-python",
   "name": "python",
   "nbconvert_exporter": "python",
   "pygments_lexer": "ipython3",
   "version": "3.8.5"
  }
 },
 "nbformat": 4,
 "nbformat_minor": 5
}
